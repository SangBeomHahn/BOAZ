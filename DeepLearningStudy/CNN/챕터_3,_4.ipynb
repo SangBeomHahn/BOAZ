{
  "nbformat": 4,
  "nbformat_minor": 0,
  "metadata": {
    "colab": {
      "provenance": []
    },
    "kernelspec": {
      "name": "python3",
      "display_name": "Python 3"
    },
    "language_info": {
      "name": "python"
    }
  },
  "cells": [
    {
      "cell_type": "markdown",
      "source": [
        "# 데이터 증강\n",
        "\n",
        "- 훈련 성능을 향상시키는 방법은 훈련용 이미지를 더 많이 생성하는 것이다!\n",
        "\n",
        "- Data Augmentation을 지원하는 케라스의 ImageDataGenerator를 알아보자"
      ],
      "metadata": {
        "id": "QI7I8-XsUCaP"
      }
    },
    {
      "cell_type": "code",
      "execution_count": null,
      "metadata": {
        "id": "qvWx5nW3O9Of"
      },
      "outputs": [],
      "source": [
        "import tensorflow as tf\n",
        "from tensorflow.keras import datasets, layers, models, regularizers, optimizers\n",
        "from tensorflow.keras.preprocessing.image import ImageDataGenerator\n",
        "import numpy as np\n",
        " \n",
        "EPOCHS=50\n",
        "NUM_CLASSES = 10\n",
        "    \n",
        "\n",
        "def load_data():\n",
        "    (x_train, y_train), (x_test, y_test) = datasets.cifar10.load_data()\n",
        "    x_train = x_train.astype('float32')\n",
        "    x_test = x_test.astype('float32')\n",
        " \n",
        "    #normalize \n",
        "    mean = np.mean(x_train,axis=(0,1,2,3))\n",
        "    std = np.std(x_train,axis=(0,1,2,3))\n",
        "    x_train = (x_train-mean)/(std+1e-7)\n",
        "    x_test = (x_test-mean)/(std+1e-7)\n",
        " \n",
        "    y_train =  tf.keras.utils.to_categorical(y_train,NUM_CLASSES)\n",
        "    y_test =  tf.keras.utils.to_categorical(y_test,NUM_CLASSES)\n",
        "\n",
        "    return x_train, y_train, x_test, y_test\n",
        "\n",
        "def build_model(): \n",
        "    model = models.Sequential()\n",
        "    \n",
        "    #1st blocl\n",
        "    model.add(layers.Conv2D(32, (3,3), padding='same', \n",
        "        input_shape=x_train.shape[1:], activation='relu'))\n",
        "    model.add(layers.BatchNormalization())\n",
        "    model.add(layers.Conv2D(32, (3,3), padding='same', activation='relu'))\n",
        "    model.add(layers.BatchNormalization())\n",
        "    model.add(layers.MaxPooling2D(pool_size=(2,2)))\n",
        "    model.add(layers.Dropout(0.2))\n",
        "\n",
        "    #2nd block\n",
        "    model.add(layers.Conv2D(64, (3,3), padding='same', activation='relu'))\n",
        "    model.add(layers.BatchNormalization())\n",
        "    model.add(layers.Conv2D(64, (3,3), padding='same', activation='relu'))\n",
        "    model.add(layers.BatchNormalization())\n",
        "    model.add(layers.MaxPooling2D(pool_size=(2,2)))\n",
        "    model.add(layers.Dropout(0.3))\n",
        "\n",
        "    #3d block \n",
        "    model.add(layers.Conv2D(128, (3,3), padding='same', activation='relu'))\n",
        "    model.add(layers.BatchNormalization())\n",
        "    model.add(layers.Conv2D(128, (3,3), padding='same', activation='relu'))\n",
        "    model.add(layers.BatchNormalization())\n",
        "    model.add(layers.MaxPooling2D(pool_size=(2,2)))\n",
        "    model.add(layers.Dropout(0.4))\n",
        "\n",
        "    #dense  \n",
        "    model.add(layers.Flatten())\n",
        "    model.add(layers.Dense(NUM_CLASSES, activation='softmax'))\n",
        "    return model\n",
        "\n",
        "    model.summary()"
      ]
    },
    {
      "cell_type": "code",
      "source": [
        "(x_train, y_train, x_test, y_test) = load_data()\n",
        "model = build_model()\n",
        "model.compile(loss='categorical_crossentropy', \n",
        "            optimizer='RMSprop', \n",
        "            metrics=['accuracy'])"
      ],
      "metadata": {
        "colab": {
          "base_uri": "https://localhost:8080/"
        },
        "id": "cGyHSwpmaHzH",
        "outputId": "759cf857-4189-4bb7-8035-17af6bfb0531"
      },
      "execution_count": null,
      "outputs": [
        {
          "output_type": "stream",
          "name": "stdout",
          "text": [
            "Downloading data from https://www.cs.toronto.edu/~kriz/cifar-10-python.tar.gz\n",
            "170500096/170498071 [==============================] - 2s 0us/step\n",
            "170508288/170498071 [==============================] - 2s 0us/step\n"
          ]
        }
      ]
    },
    {
      "cell_type": "code",
      "source": [
        "#image augmentation\n",
        "datagen = ImageDataGenerator(\n",
        "    rotation_range=30,\n",
        "    width_shift_range=0.2,\n",
        "    height_shift_range=0.2,\n",
        "    horizontal_flip=True,\n",
        "    )\n",
        "datagen.fit(x_train)"
      ],
      "metadata": {
        "id": "yxctqK82aqju"
      },
      "execution_count": null,
      "outputs": []
    },
    {
      "cell_type": "code",
      "source": [
        "datagen"
      ],
      "metadata": {
        "colab": {
          "base_uri": "https://localhost:8080/"
        },
        "id": "VkxeJSnqa1r6",
        "outputId": "faa4f42b-2387-401a-bdf2-7c6b7b80e117"
      },
      "execution_count": null,
      "outputs": [
        {
          "output_type": "execute_result",
          "data": {
            "text/plain": [
              "<keras.preprocessing.image.ImageDataGenerator at 0x7f11c171c050>"
            ]
          },
          "metadata": {},
          "execution_count": 4
        }
      ]
    },
    {
      "cell_type": "code",
      "source": [
        "batch_size = 64\n",
        "\n",
        "# flow 메소드로 X, y 이미지를 한 번에 몇 개 업로드 시킬지에 대해 배치 사이즈 설정, 데이터 섞을 유무를 지정\n",
        "flow_tr_gen = datagen.flow(x_train, y_train, batch_size=batch_size, shuffle = True)"
      ],
      "metadata": {
        "id": "2sol66Wrb3nj"
      },
      "execution_count": null,
      "outputs": []
    },
    {
      "cell_type": "code",
      "source": [
        "image_batch, label_batch = next(flow_tr_gen)\n",
        "print(image_batch.shape, label_batch.shape)"
      ],
      "metadata": {
        "colab": {
          "base_uri": "https://localhost:8080/"
        },
        "id": "-FmcPQsZccjk",
        "outputId": "51d190ad-a09b-40fa-b8b3-7f584b6d0dae"
      },
      "execution_count": null,
      "outputs": [
        {
          "output_type": "stream",
          "name": "stdout",
          "text": [
            "(64, 32, 32, 3) (64, 10)\n"
          ]
        }
      ]
    },
    {
      "cell_type": "code",
      "source": [
        "print(image_batch[1].shape)"
      ],
      "metadata": {
        "colab": {
          "base_uri": "https://localhost:8080/"
        },
        "id": "FfZwlGtictvY",
        "outputId": "13df4b2d-d054-417e-fa67-c2373b5c5124"
      },
      "execution_count": null,
      "outputs": [
        {
          "output_type": "stream",
          "name": "stdout",
          "text": [
            "(32, 32, 3)\n"
          ]
        }
      ]
    },
    {
      "cell_type": "code",
      "source": [
        "import matplotlib.pyplot as plt\n",
        "\n",
        "plt.imshow(image_batch[1])"
      ],
      "metadata": {
        "colab": {
          "base_uri": "https://localhost:8080/",
          "height": 323
        },
        "id": "_p1WkDuhc00w",
        "outputId": "0bbfd8f5-a70b-4ba7-d281-84609784183c"
      },
      "execution_count": null,
      "outputs": [
        {
          "output_type": "stream",
          "name": "stderr",
          "text": [
            "WARNING:matplotlib.image:Clipping input data to the valid range for imshow with RGB data ([0..1] for floats or [0..255] for integers).\n"
          ]
        },
        {
          "output_type": "execute_result",
          "data": {
            "text/plain": [
              "<matplotlib.image.AxesImage at 0x7f11c0a21a90>"
            ]
          },
          "metadata": {},
          "execution_count": 11
        },
        {
          "output_type": "display_data",
          "data": {
            "text/plain": [
              "<Figure size 432x288 with 1 Axes>"
            ],
            "image/png": "[encoded data removed]"
          },
          "metadata": {
            "needs_background": "light"
          }
        }
      ]
    },
    {
      "cell_type": "code",
      "source": [
        "len(x_train)"
      ],
      "metadata": {
        "colab": {
          "base_uri": "https://localhost:8080/"
        },
        "id": "YrPdKtHKfbHu",
        "outputId": "1c348397-7d34-4375-967e-0f5b8d299c8c"
      },
      "execution_count": null,
      "outputs": [
        {
          "output_type": "execute_result",
          "data": {
            "text/plain": [
              "50000"
            ]
          },
          "metadata": {},
          "execution_count": 24
        }
      ]
    },
    {
      "cell_type": "code",
      "source": [
        "# 살짝 증가한 것을 확인할 수 있다.\n",
        "len(flow_tr_gen) * 64"
      ],
      "metadata": {
        "colab": {
          "base_uri": "https://localhost:8080/"
        },
        "id": "RMzAc31UfNSt",
        "outputId": "d3c0b9d8-598f-4052-dc6e-eab6e29192e6"
      },
      "execution_count": null,
      "outputs": [
        {
          "output_type": "execute_result",
          "data": {
            "text/plain": [
              "50048"
            ]
          },
          "metadata": {},
          "execution_count": 26
        }
      ]
    },
    {
      "cell_type": "markdown",
      "source": [
        "# 증강 후에 학습 종류 3가지"
      ],
      "metadata": {
        "id": "sFj3hFNUdCKa"
      }
    },
    {
      "cell_type": "markdown",
      "source": [
        "# fit vs fit_generator vs train_on_batch\n",
        "\n",
        "- fit : 데이터 x, y 전체를 한 번에 모델 입력으로 사용한다, 그만큼 메모리를 많이 사용하므로 적은 양의 데이터에 사용한다.\n",
        "   + ex) mnist는 28x28x1\n",
        "<br><br>\n",
        "- fit_generator : 대용량의 데이터를 효율적으로 학습하기 위한 것으로 모델에 generator를 통해 형성된 데이터를 batch size로 입력에 넣어 학습하는 방법\n",
        "\n",
        "   -> CPU를 parallel하게 사용할 때 효율적<br>\n",
        "   -> ex) cifar10은 32x32x3으로 mnist보다 데이터 복잡도가 크다\n",
        "<br><br>\n",
        "- train_on_batch : train_on_batch를 사용하기 좋은 케이스는 pre-trained 모델을 단일 배치로 학습시켜야 할 때이다.\n",
        "\n",
        "<br><br>\n",
        "- 공통점 : 셋 다 history, loss, accuracy를 반환한다."
      ],
      "metadata": {
        "id": "mcgewkMfg-LN"
      }
    },
    {
      "cell_type": "markdown",
      "source": [
        "```\n",
        "훈련하는 것을 보면 flow_tr_gen의 batch 단위로 학습이 일어난다.\n",
        "```"
      ],
      "metadata": {
        "id": "It7VE_7fh3w9"
      }
    },
    {
      "cell_type": "code",
      "source": [
        "model.fit_generator(datagen.flow(x_train, y_train, batch_size=batch_size, shuffle = True),\n",
        "                    epochs=1, \n",
        "                    verbose=1,validation_data=(x_test,y_test))\n",
        "\n",
        "\n",
        "#save to disk\n",
        "model_json = model.to_json()\n",
        "with open('model.json', 'w') as json_file:\n",
        "    json_file.write(model_json)\n",
        "model.save_weights('model.h5') \n",
        "\n",
        "#test\n",
        "scores = model.evaluate(x_test, y_test, batch_size=128, verbose=1)\n",
        "print('\\nTest result: %.3f loss: %.3f' % (scores[1]*100,scores[0])) "
      ],
      "metadata": {
        "colab": {
          "base_uri": "https://localhost:8080/"
        },
        "id": "RQuZnLAsatW9",
        "outputId": "674c55f1-f556-453f-dc06-2016941cfba5"
      },
      "execution_count": null,
      "outputs": [
        {
          "output_type": "stream",
          "name": "stderr",
          "text": [
            "/usr/local/lib/python3.7/dist-packages/ipykernel_launcher.py:3: UserWarning: `Model.fit_generator` is deprecated and will be removed in a future version. Please use `Model.fit`, which supports generators.\n",
            "  This is separate from the ipykernel package so we can avoid doing imports until\n"
          ]
        },
        {
          "output_type": "stream",
          "name": "stdout",
          "text": [
            "782/782 [==============================] - 314s 401ms/step - loss: 1.9467 - accuracy: 0.3834 - val_loss: 1.6127 - val_accuracy: 0.5125\n",
            "79/79 [==============================] - 12s 154ms/step - loss: 1.6127 - accuracy: 0.5125\n",
            "\n",
            "Test result: 51.250 loss: 1.613\n"
          ]
        }
      ]
    },
    {
      "cell_type": "code",
      "source": [],
      "metadata": {
        "id": "7vXrDkvzhscO"
      },
      "execution_count": null,
      "outputs": []
    },
    {
      "cell_type": "code",
      "source": [],
      "metadata": {
        "id": "EeCoV-RUjJZS"
      },
      "execution_count": null,
      "outputs": []
    },
    {
      "cell_type": "code",
      "source": [],
      "metadata": {
        "id": "JgW464FmjJWz"
      },
      "execution_count": null,
      "outputs": []
    },
    {
      "cell_type": "code",
      "source": [],
      "metadata": {
        "id": "0p2oWn0XjJUd"
      },
      "execution_count": null,
      "outputs": []
    },
    {
      "cell_type": "markdown",
      "source": [
        "# 이미지 전처리 \n",
        "\n",
        "-> cnn 학습에 필수적인 단계(아래 실습 내용이 있다.)\n",
        "<br><br><br>\n",
        "1.실수화 : 이미지를 원본 그대로 넣으면 시각화할 수 없었다.\n",
        "\n",
        "2.ndarray화 : 이미지를 효율적으로 처리하기 위해서 넘파이로 형변환한다.\n",
        "\n",
        "-> cv2로 이미지를 로드하면 실수화를 안해도 시각화할 수 있다.(실수화와 ndarray 형변환을 처리한 결과를 출력한다.)"
      ],
      "metadata": {
        "id": "3c7jBszEpTWd"
      }
    },
    {
      "cell_type": "code",
      "source": [
        "# 실수화를 하지 않은 경우 시각화할 수 없음\n",
        "plt.imshow(\"/content/cat-standing.jpg\")"
      ],
      "metadata": {
        "colab": {
          "base_uri": "https://localhost:8080/",
          "height": 579
        },
        "id": "CV4uUB3xmtuv",
        "outputId": "2b4d4179-f301-423e-d523-d98bfa12d9e4"
      },
      "execution_count": null,
      "outputs": [
        {
          "output_type": "error",
          "ename": "TypeError",
          "evalue": "ignored",
          "traceback": [
            "\u001b[0;31m---------------------------------------------------------------------------\u001b[0m",
            "\u001b[0;31mTypeError\u001b[0m                                 Traceback (most recent call last)",
            "\u001b[0;32m<ipython-input-45-ebb648932880>\u001b[0m in \u001b[0;36m<module>\u001b[0;34m\u001b[0m\n\u001b[0;32m----> 1\u001b[0;31m \u001b[0mplt\u001b[0m\u001b[0;34m.\u001b[0m\u001b[0mimshow\u001b[0m\u001b[0;34m(\u001b[0m\u001b[0;34m\"/content/cat-standing.jpg\"\u001b[0m\u001b[0;34m)\u001b[0m\u001b[0;34m\u001b[0m\u001b[0;34m\u001b[0m\u001b[0m\n\u001b[0m",
            "\u001b[0;32m/usr/local/lib/python3.7/dist-packages/matplotlib/pyplot.py\u001b[0m in \u001b[0;36mimshow\u001b[0;34m(X, cmap, norm, aspect, interpolation, alpha, vmin, vmax, origin, extent, shape, filternorm, filterrad, imlim, resample, url, data, **kwargs)\u001b[0m\n\u001b[1;32m   2649\u001b[0m         \u001b[0mfilternorm\u001b[0m\u001b[0;34m=\u001b[0m\u001b[0mfilternorm\u001b[0m\u001b[0;34m,\u001b[0m \u001b[0mfilterrad\u001b[0m\u001b[0;34m=\u001b[0m\u001b[0mfilterrad\u001b[0m\u001b[0;34m,\u001b[0m \u001b[0mimlim\u001b[0m\u001b[0;34m=\u001b[0m\u001b[0mimlim\u001b[0m\u001b[0;34m,\u001b[0m\u001b[0;34m\u001b[0m\u001b[0;34m\u001b[0m\u001b[0m\n\u001b[1;32m   2650\u001b[0m         resample=resample, url=url, **({\"data\": data} if data is not\n\u001b[0;32m-> 2651\u001b[0;31m         None else {}), **kwargs)\n\u001b[0m\u001b[1;32m   2652\u001b[0m     \u001b[0msci\u001b[0m\u001b[0;34m(\u001b[0m\u001b[0m__ret\u001b[0m\u001b[0;34m)\u001b[0m\u001b[0;34m\u001b[0m\u001b[0;34m\u001b[0m\u001b[0m\n\u001b[1;32m   2653\u001b[0m     \u001b[0;32mreturn\u001b[0m \u001b[0m__ret\u001b[0m\u001b[0;34m\u001b[0m\u001b[0;34m\u001b[0m\u001b[0m\n",
            "\u001b[0;32m/usr/local/lib/python3.7/dist-packages/matplotlib/__init__.py\u001b[0m in \u001b[0;36minner\u001b[0;34m(ax, data, *args, **kwargs)\u001b[0m\n\u001b[1;32m   1563\u001b[0m     \u001b[0;32mdef\u001b[0m \u001b[0minner\u001b[0m\u001b[0;34m(\u001b[0m\u001b[0max\u001b[0m\u001b[0;34m,\u001b[0m \u001b[0;34m*\u001b[0m\u001b[0margs\u001b[0m\u001b[0;34m,\u001b[0m \u001b[0mdata\u001b[0m\u001b[0;34m=\u001b[0m\u001b[0;32mNone\u001b[0m\u001b[0;34m,\u001b[0m \u001b[0;34m**\u001b[0m\u001b[0mkwargs\u001b[0m\u001b[0;34m)\u001b[0m\u001b[0;34m:\u001b[0m\u001b[0;34m\u001b[0m\u001b[0;34m\u001b[0m\u001b[0m\n\u001b[1;32m   1564\u001b[0m         \u001b[0;32mif\u001b[0m \u001b[0mdata\u001b[0m \u001b[0;32mis\u001b[0m \u001b[0;32mNone\u001b[0m\u001b[0;34m:\u001b[0m\u001b[0;34m\u001b[0m\u001b[0;34m\u001b[0m\u001b[0m\n\u001b[0;32m-> 1565\u001b[0;31m             \u001b[0;32mreturn\u001b[0m \u001b[0mfunc\u001b[0m\u001b[0;34m(\u001b[0m\u001b[0max\u001b[0m\u001b[0;34m,\u001b[0m \u001b[0;34m*\u001b[0m\u001b[0mmap\u001b[0m\u001b[0;34m(\u001b[0m\u001b[0msanitize_sequence\u001b[0m\u001b[0;34m,\u001b[0m \u001b[0margs\u001b[0m\u001b[0;34m)\u001b[0m\u001b[0;34m,\u001b[0m \u001b[0;34m**\u001b[0m\u001b[0mkwargs\u001b[0m\u001b[0;34m)\u001b[0m\u001b[0;34m\u001b[0m\u001b[0;34m\u001b[0m\u001b[0m\n\u001b[0m\u001b[1;32m   1566\u001b[0m \u001b[0;34m\u001b[0m\u001b[0m\n\u001b[1;32m   1567\u001b[0m         \u001b[0mbound\u001b[0m \u001b[0;34m=\u001b[0m \u001b[0mnew_sig\u001b[0m\u001b[0;34m.\u001b[0m\u001b[0mbind\u001b[0m\u001b[0;34m(\u001b[0m\u001b[0max\u001b[0m\u001b[0;34m,\u001b[0m \u001b[0;34m*\u001b[0m\u001b[0margs\u001b[0m\u001b[0;34m,\u001b[0m \u001b[0;34m**\u001b[0m\u001b[0mkwargs\u001b[0m\u001b[0;34m)\u001b[0m\u001b[0;34m\u001b[0m\u001b[0;34m\u001b[0m\u001b[0m\n",
            "\u001b[0;32m/usr/local/lib/python3.7/dist-packages/matplotlib/cbook/deprecation.py\u001b[0m in \u001b[0;36mwrapper\u001b[0;34m(*args, **kwargs)\u001b[0m\n\u001b[1;32m    356\u001b[0m                 \u001b[0;34mf\"%(removal)s.  If any parameter follows {name!r}, they \"\u001b[0m\u001b[0;34m\u001b[0m\u001b[0;34m\u001b[0m\u001b[0m\n\u001b[1;32m    357\u001b[0m                 f\"should be pass as keyword, not positionally.\")\n\u001b[0;32m--> 358\u001b[0;31m         \u001b[0;32mreturn\u001b[0m \u001b[0mfunc\u001b[0m\u001b[0;34m(\u001b[0m\u001b[0;34m*\u001b[0m\u001b[0margs\u001b[0m\u001b[0;34m,\u001b[0m \u001b[0;34m**\u001b[0m\u001b[0mkwargs\u001b[0m\u001b[0;34m)\u001b[0m\u001b[0;34m\u001b[0m\u001b[0;34m\u001b[0m\u001b[0m\n\u001b[0m\u001b[1;32m    359\u001b[0m \u001b[0;34m\u001b[0m\u001b[0m\n\u001b[1;32m    360\u001b[0m     \u001b[0;32mreturn\u001b[0m \u001b[0mwrapper\u001b[0m\u001b[0;34m\u001b[0m\u001b[0;34m\u001b[0m\u001b[0m\n",
            "\u001b[0;32m/usr/local/lib/python3.7/dist-packages/matplotlib/cbook/deprecation.py\u001b[0m in \u001b[0;36mwrapper\u001b[0;34m(*args, **kwargs)\u001b[0m\n\u001b[1;32m    356\u001b[0m                 \u001b[0;34mf\"%(removal)s.  If any parameter follows {name!r}, they \"\u001b[0m\u001b[0;34m\u001b[0m\u001b[0;34m\u001b[0m\u001b[0m\n\u001b[1;32m    357\u001b[0m                 f\"should be pass as keyword, not positionally.\")\n\u001b[0;32m--> 358\u001b[0;31m         \u001b[0;32mreturn\u001b[0m \u001b[0mfunc\u001b[0m\u001b[0;34m(\u001b[0m\u001b[0;34m*\u001b[0m\u001b[0margs\u001b[0m\u001b[0;34m,\u001b[0m \u001b[0;34m**\u001b[0m\u001b[0mkwargs\u001b[0m\u001b[0;34m)\u001b[0m\u001b[0;34m\u001b[0m\u001b[0;34m\u001b[0m\u001b[0m\n\u001b[0m\u001b[1;32m    359\u001b[0m \u001b[0;34m\u001b[0m\u001b[0m\n\u001b[1;32m    360\u001b[0m     \u001b[0;32mreturn\u001b[0m \u001b[0mwrapper\u001b[0m\u001b[0;34m\u001b[0m\u001b[0;34m\u001b[0m\u001b[0m\n",
            "\u001b[0;32m/usr/local/lib/python3.7/dist-packages/matplotlib/axes/_axes.py\u001b[0m in \u001b[0;36mimshow\u001b[0;34m(self, X, cmap, norm, aspect, interpolation, alpha, vmin, vmax, origin, extent, shape, filternorm, filterrad, imlim, resample, url, **kwargs)\u001b[0m\n\u001b[1;32m   5624\u001b[0m                               resample=resample, **kwargs)\n\u001b[1;32m   5625\u001b[0m \u001b[0;34m\u001b[0m\u001b[0m\n\u001b[0;32m-> 5626\u001b[0;31m         \u001b[0mim\u001b[0m\u001b[0;34m.\u001b[0m\u001b[0mset_data\u001b[0m\u001b[0;34m(\u001b[0m\u001b[0mX\u001b[0m\u001b[0;34m)\u001b[0m\u001b[0;34m\u001b[0m\u001b[0;34m\u001b[0m\u001b[0m\n\u001b[0m\u001b[1;32m   5627\u001b[0m         \u001b[0mim\u001b[0m\u001b[0;34m.\u001b[0m\u001b[0mset_alpha\u001b[0m\u001b[0;34m(\u001b[0m\u001b[0malpha\u001b[0m\u001b[0;34m)\u001b[0m\u001b[0;34m\u001b[0m\u001b[0;34m\u001b[0m\u001b[0m\n\u001b[1;32m   5628\u001b[0m         \u001b[0;32mif\u001b[0m \u001b[0mim\u001b[0m\u001b[0;34m.\u001b[0m\u001b[0mget_clip_path\u001b[0m\u001b[0;34m(\u001b[0m\u001b[0;34m)\u001b[0m \u001b[0;32mis\u001b[0m \u001b[0;32mNone\u001b[0m\u001b[0;34m:\u001b[0m\u001b[0;34m\u001b[0m\u001b[0;34m\u001b[0m\u001b[0m\n",
            "\u001b[0;32m/usr/local/lib/python3.7/dist-packages/matplotlib/image.py\u001b[0m in \u001b[0;36mset_data\u001b[0;34m(self, A)\u001b[0m\n\u001b[1;32m    692\u001b[0m                 not np.can_cast(self._A.dtype, float, \"same_kind\")):\n\u001b[1;32m    693\u001b[0m             raise TypeError(\"Image data of dtype {} cannot be converted to \"\n\u001b[0;32m--> 694\u001b[0;31m                             \"float\".format(self._A.dtype))\n\u001b[0m\u001b[1;32m    695\u001b[0m \u001b[0;34m\u001b[0m\u001b[0m\n\u001b[1;32m    696\u001b[0m         if not (self._A.ndim == 2\n",
            "\u001b[0;31mTypeError\u001b[0m: Image data of dtype <U25 cannot be converted to float"
          ]
        },
        {
          "output_type": "display_data",
          "data": {
            "text/plain": [
              "<Figure size 432x288 with 1 Axes>"
            ],
            "image/png": "[encoded data removed]"
          },
          "metadata": {
            "needs_background": "light"
          }
        }
      ]
    },
    {
      "cell_type": "code",
      "source": [
        "# 실수화 밑 ndarray 형식 변환\n",
        "imgs = resize(imread(\"/content/cat-standing.jpg\"), (32, 32)).astype(\"float32\")\n",
        "imgs = np.array(imgs) / 255"
      ],
      "metadata": {
        "id": "HXTcPc7Fo97A"
      },
      "execution_count": null,
      "outputs": []
    },
    {
      "cell_type": "code",
      "source": [
        "plt.imshow(imgs)"
      ],
      "metadata": {
        "colab": {
          "base_uri": "https://localhost:8080/",
          "height": 284
        },
        "id": "Tvqf0uSMpLmn",
        "outputId": "2fdc5dbc-dd3e-42e6-ad20-b370dd69b219"
      },
      "execution_count": null,
      "outputs": [
        {
          "output_type": "execute_result",
          "data": {
            "text/plain": [
              "<matplotlib.image.AxesImage at 0x7f11b4b40d90>"
            ]
          },
          "metadata": {},
          "execution_count": 47
        },
        {
          "output_type": "display_data",
          "data": {
            "text/plain": [
              "<Figure size 432x288 with 1 Axes>"
            ],
            "image/png": "[encoded data removed]"
          },
          "metadata": {
            "needs_background": "light"
          }
        }
      ]
    },
    {
      "cell_type": "code",
      "source": [
        "# cv2로 이미지 로드\n",
        "import cv2\n",
        "image = cv2.imread(\"/content/cat-standing.jpg\")\n",
        "plt.imshow(image)"
      ],
      "metadata": {
        "colab": {
          "base_uri": "https://localhost:8080/",
          "height": 287
        },
        "id": "DHSKf0VcqEG_",
        "outputId": "c84ce350-b8d9-42d8-b373-46d8d6b36f78"
      },
      "execution_count": null,
      "outputs": [
        {
          "output_type": "execute_result",
          "data": {
            "text/plain": [
              "<matplotlib.image.AxesImage at 0x7f11b3dd43d0>"
            ]
          },
          "metadata": {},
          "execution_count": 66
        },
        {
          "output_type": "display_data",
          "data": {
            "text/plain": [
              "<Figure size 432x288 with 1 Axes>"
            ],
            "image/png": "[encoded data removed]"
          },
          "metadata": {
            "needs_background": "light"
          }
        }
      ]
    },
    {
      "cell_type": "code",
      "source": [
        "# 이미지 전처리(자료형 변경)\n",
        "from tensorflow.keras.preprocessing.image import img_to_array\n",
        "IMG_CHANNELS = 3\n",
        "IMG_ROWS = 32\n",
        "IMG_COLS = 32\n",
        "\n",
        "image = cv2.resize(image, dsize = (IMG_ROWS, IMG_COLS))"
      ],
      "metadata": {
        "id": "VCkeVkePqEFA"
      },
      "execution_count": null,
      "outputs": []
    },
    {
      "cell_type": "code",
      "source": [
        "plt.imshow(image)"
      ],
      "metadata": {
        "colab": {
          "base_uri": "https://localhost:8080/",
          "height": 284
        },
        "id": "-kElwj0WrAMk",
        "outputId": "7eb87a25-207a-43bc-b1c9-e6d62a85f619"
      },
      "execution_count": null,
      "outputs": [
        {
          "output_type": "execute_result",
          "data": {
            "text/plain": [
              "<matplotlib.image.AxesImage at 0x7f11bb99a810>"
            ]
          },
          "metadata": {},
          "execution_count": 68
        },
        {
          "output_type": "display_data",
          "data": {
            "text/plain": [
              "<Figure size 432x288 with 1 Axes>"
            ],
            "image/png": "[encoded data removed]"
          },
          "metadata": {
            "needs_background": "light"
          }
        }
      ]
    },
    {
      "cell_type": "code",
      "source": [
        "image = image.reshape(1,image.shape[0],image.shape[1], image.shape[2]) # 학습 시에 배치로 학습을 하기 위한 작업이다\n",
        "image.shape"
      ],
      "metadata": {
        "colab": {
          "base_uri": "https://localhost:8080/"
        },
        "id": "Z6Ju4CCZq_Sx",
        "outputId": "ff749cf4-531e-41a5-b628-a78b949acbdb"
      },
      "execution_count": null,
      "outputs": [
        {
          "output_type": "execute_result",
          "data": {
            "text/plain": [
              "(1, 32, 32, 3)"
            ]
          },
          "metadata": {},
          "execution_count": 69
        }
      ]
    },
    {
      "cell_type": "code",
      "source": [
        "predictions = model.predict(image, verbose=0) \n",
        "predictions = predictions.argmax(axis=-1)\n",
        "print(\"predictions:\", predictions)"
      ],
      "metadata": {
        "colab": {
          "base_uri": "https://localhost:8080/"
        },
        "id": "pGIfifgJq5AH",
        "outputId": "66272bae-259a-4dcd-e9b8-c4501a7dc5f3"
      },
      "execution_count": null,
      "outputs": [
        {
          "output_type": "stream",
          "name": "stdout",
          "text": [
            "predictions: [0]\n"
          ]
        }
      ]
    },
    {
      "cell_type": "code",
      "source": [],
      "metadata": {
        "id": "jLTdBqTrraA6"
      },
      "execution_count": null,
      "outputs": []
    },
    {
      "cell_type": "code",
      "source": [],
      "metadata": {
        "id": "Y02mUTsArZ_C"
      },
      "execution_count": null,
      "outputs": []
    },
    {
      "cell_type": "code",
      "source": [],
      "metadata": {
        "id": "X3Hw0YAnrZ9D"
      },
      "execution_count": null,
      "outputs": []
    },
    {
      "cell_type": "code",
      "source": [
        "import numpy as np\n",
        "#import scipy.misc\n",
        "\n",
        "from skimage.transform import resize\n",
        "from imageio import imread\n",
        "\n",
        "from tensorflow.keras.models import model_from_json\n",
        "from tensorflow.keras.optimizers import SGD\n",
        "\n",
        "model_architecture = \"/content/model.json\"\n",
        "model_weights = \"/content/model.h5\"\n",
        "model = model_from_json(open(model_architecture).read())\n",
        "model.load_weights(model_weights)\n",
        "\n",
        "img_names = [\"/content/images.jpg\", \"/content/다운로드.jpg\"]\n",
        "img_names = [\"cat-standing.jpg\", \"dog.jpg\"]\n",
        "\n",
        "# (32 x 32)로 reshape하고 transpose를 통해 배치 차원 추가\n",
        "# imgs = [np.transpose(resize(imread(img_name), (32, 32)), (2, 0, 1)).astype(\"float32\") for img_name in img_names]\n",
        "\n",
        "# (32 x 32)로 reshape하고 실수화 및 ndarray 형식으로 변환\n",
        "imgs = [resize(imread(img_name), (32, 32)).astype(\"float32\") for img_name in img_names]\n",
        "imgs = np.array(imgs) / 255\n",
        "print(\"imgs.shape:\", imgs.shape)\n",
        "\n",
        "optim = SGD()\n",
        "\n",
        "model.compile(loss=\"categorical_crossentropy\", optimizer=optim, metrics=[\"accuracy\"])\n",
        "\n",
        "# 오류 -> predict_classes를 처리할 수 없다.\n",
        "# predictions = model.predict_classes(imgs)\n",
        "# print(\"predictions:\", predictions)\n",
        "\n",
        "# 오류 해결 -> argmax로 클래스 분류와 같은 효과\n",
        "predictions = model.predict(imgs, verbose=0) \n",
        "predictions = predictions.argmax(axis=-1)\n",
        "print(\"predictions:\", predictions)\n"
      ],
      "metadata": {
        "colab": {
          "base_uri": "https://localhost:8080/"
        },
        "id": "jsAfADD3jJSm",
        "outputId": "d3674cbe-f2e4-4be6-996b-f4f1b661533f"
      },
      "execution_count": null,
      "outputs": [
        {
          "output_type": "stream",
          "name": "stderr",
          "text": [
            "WARNING:tensorflow:6 out of the last 6 calls to <function Model.make_predict_function.<locals>.predict_function at 0x7f11bb980a70> triggered tf.function retracing. Tracing is expensive and the excessive number of tracings could be due to (1) creating @tf.function repeatedly in a loop, (2) passing tensors with different shapes, (3) passing Python objects instead of tensors. For (1), please define your @tf.function outside of the loop. For (2), @tf.function has experimental_relax_shapes=True option that relaxes argument shapes that can avoid unnecessary retracing. For (3), please refer to https://www.tensorflow.org/guide/function#controlling_retracing and https://www.tensorflow.org/api_docs/python/tf/function for  more details.\n"
          ]
        },
        {
          "output_type": "stream",
          "name": "stdout",
          "text": [
            "imgs.shape: (2, 32, 32, 3)\n",
            "predictions: [0 0]\n"
          ]
        }
      ]
    },
    {
      "cell_type": "code",
      "source": [
        "plt.imshow(imgs[1])"
      ],
      "metadata": {
        "colab": {
          "base_uri": "https://localhost:8080/",
          "height": 284
        },
        "id": "iCyiHvVJjgLC",
        "outputId": "ebe345f3-23f3-4f54-80d8-edb51626bd59"
      },
      "execution_count": null,
      "outputs": [
        {
          "output_type": "execute_result",
          "data": {
            "text/plain": [
              "<matplotlib.image.AxesImage at 0x7f11bbc0e750>"
            ]
          },
          "metadata": {},
          "execution_count": 34
        },
        {
          "output_type": "display_data",
          "data": {
            "text/plain": [
              "<Figure size 432x288 with 1 Axes>"
            ],
            "image/png": "[encoded data removed]"
          },
          "metadata": {
            "needs_background": "light"
          }
        }
      ]
    },
    {
      "cell_type": "code",
      "source": [],
      "metadata": {
        "id": "VanZLoGploeY"
      },
      "execution_count": null,
      "outputs": []
    },
    {
      "cell_type": "code",
      "source": [],
      "metadata": {
        "id": "NbE3CkVRmbqM"
      },
      "execution_count": null,
      "outputs": []
    },
    {
      "cell_type": "code",
      "source": [],
      "metadata": {
        "id": "u7yoJDaTmblQ"
      },
      "execution_count": null,
      "outputs": []
    },
    {
      "cell_type": "markdown",
      "source": [
        "```\n",
        "fit보다 fit_gene가 더 속도가 20ms정도 빠르다!!! -> 데이터의 크기가 크고 모델의 깊이가 깊어지면 이 크기는 더 커질 것이다.\n",
        "```"
      ],
      "metadata": {
        "id": "Z_K9b3F7mk33"
      }
    },
    {
      "cell_type": "code",
      "source": [
        "model.fit(datagen.flow(x_train, y_train, batch_size=batch_size, shuffle = True),\n",
        "                    epochs=1, \n",
        "                    verbose=1,validation_data=(x_test,y_test))"
      ],
      "metadata": {
        "colab": {
          "base_uri": "https://localhost:8080/"
        },
        "id": "gNKufW0embjK",
        "outputId": "e5db42d9-c1d5-4d6d-c69d-df5300a3e7c1"
      },
      "execution_count": null,
      "outputs": [
        {
          "output_type": "stream",
          "name": "stdout",
          "text": [
            "782/782 [==============================] - 327s 417ms/step - loss: 1.5125 - accuracy: 0.5043 - val_loss: 1.3874 - val_accuracy: 0.5726\n"
          ]
        },
        {
          "output_type": "execute_result",
          "data": {
            "text/plain": [
              "<keras.callbacks.History at 0x7f11b3e23a10>"
            ]
          },
          "metadata": {},
          "execution_count": 42
        }
      ]
    },
    {
      "cell_type": "code",
      "source": [],
      "metadata": {
        "id": "2IpsHCOupxUW"
      },
      "execution_count": null,
      "outputs": []
    },
    {
      "cell_type": "code",
      "source": [],
      "metadata": {
        "id": "0yFeVDspru2E"
      },
      "execution_count": null,
      "outputs": []
    },
    {
      "cell_type": "code",
      "source": [],
      "metadata": {
        "id": "XtQMN2I5ruz-"
      },
      "execution_count": null,
      "outputs": []
    },
    {
      "cell_type": "code",
      "source": [],
      "metadata": {
        "id": "D94wbfANrux1"
      },
      "execution_count": null,
      "outputs": []
    },
    {
      "cell_type": "markdown",
      "source": [
        "# 전이학습"
      ],
      "metadata": {
        "id": "YLbNM5etrvGP"
      }
    },
    {
      "cell_type": "markdown",
      "source": [
        "## 원본코드 분석\n",
        "\n",
        "-> 분석 결과 : 모델 가중치를 로드할 때는 모델의 구조가 있어야 하고 저장한 path와 동일한 file_path에서 가중치 로드를 해야한다."
      ],
      "metadata": {
        "id": "0KqsXuAdg3Px"
      }
    },
    {
      "cell_type": "code",
      "source": [
        "import tensorflow as tf\n",
        "from tensorflow.keras import layers, models\n",
        "import cv2, numpy as np\n",
        "import os\n",
        "\n",
        "# define a VGG16 network\n",
        "def VGG_16(weights_path=None):\n",
        "    model = models.Sequential()\n",
        "    model.add(layers.ZeroPadding2D((1,1),input_shape=(224,224, 3)))\n",
        "    model.add(layers.Convolution2D(64, (3, 3), activation='relu'))\n",
        "    model.add(layers.ZeroPadding2D((1,1)))\n",
        "    model.add(layers.Convolution2D(64, (3, 3), activation='relu'))\n",
        "    model.add(layers.MaxPooling2D((2,2), strides=(2,2)))\n",
        "\n",
        "    model.add(layers.ZeroPadding2D((1,1)))\n",
        "    model.add(layers.Convolution2D(128, (3, 3), activation='relu'))\n",
        "    model.add(layers.ZeroPadding2D((1,1)))\n",
        "    model.add(layers.Convolution2D(128, (3, 3), activation='relu'))\n",
        "    model.add(layers.MaxPooling2D((2,2), strides=(2,2)))\n",
        "\n",
        "    model.add(layers.ZeroPadding2D((1,1)))\n",
        "    model.add(layers.Convolution2D(256, (3, 3), activation='relu'))\n",
        "    model.add(layers.ZeroPadding2D((1,1)))\n",
        "    model.add(layers.Convolution2D(256, (3, 3), activation='relu'))\n",
        "    model.add(layers.ZeroPadding2D((1,1)))\n",
        "    model.add(layers.Convolution2D(256, (3, 3), activation='relu'))\n",
        "    model.add(layers.MaxPooling2D((2,2), strides=(2,2)))\n",
        "\n",
        "    model.add(layers.ZeroPadding2D((1,1)))\n",
        "    model.add(layers.Convolution2D(512, (3, 3), activation='relu'))\n",
        "    model.add(layers.ZeroPadding2D((1,1)))\n",
        "    model.add(layers.Convolution2D(512, (3, 3), activation='relu'))\n",
        "    model.add(layers.ZeroPadding2D((1,1)))\n",
        "    model.add(layers.Convolution2D(512, (3, 3), activation='relu'))\n",
        "    model.add(layers.MaxPooling2D((2,2), strides=(2,2)))\n",
        "\n",
        "    model.add(layers.ZeroPadding2D((1,1)))\n",
        "    model.add(layers.Convolution2D(512, (3, 3), activation='relu'))\n",
        "    model.add(layers.ZeroPadding2D((1,1)))\n",
        "    model.add(layers.Convolution2D(512, (3, 3), activation='relu'))\n",
        "    model.add(layers.ZeroPadding2D((1,1)))\n",
        "    model.add(layers.Convolution2D(512, (3, 3), activation='relu'))\n",
        "    model.add(layers.MaxPooling2D((2,2), strides=(2,2)))\n",
        "\n",
        "    model.add(layers.Flatten())\n",
        "\n",
        "    #top layer of the VGG net\n",
        "    model.add(layers.Dense(4096, activation='relu'))\n",
        "    model.add(layers.Dropout(0.5))\n",
        "    model.add(layers.Dense(4096, activation='relu'))\n",
        "    model.add(layers.Dropout(0.5))\n",
        "    model.add(layers.Dense(1000, activation='softmax'))\n",
        "\n",
        "    if weights_path:\n",
        "        model.load_weights(weights_path)\n",
        "\n",
        "    return model\n",
        "\n",
        "\n",
        "im = cv2.resize(cv2.imread('cat.jpg'), (224, 224)).astype(np.float32)\n",
        "#im = im.transpose((2,0,1))\n",
        "im = np.expand_dims(im, axis=0)\n",
        "\n",
        "# Test pretrained model\n",
        "# path_file = os.path.join(os.path.expanduser(\"~\"), '.keras/models/vgg16_weights_tf_dim_ordering_tf_kernels.h5')\n",
        "path_file = \"how_to_download_vgg16_weights.h5\"\n",
        "model = VGG_16(path_file)\n",
        "model.summary()\n",
        "model.compile(optimizer='sgd', loss='categorical_crossentropy')\n",
        "out = model.predict(im)\n",
        "print(np.argmax(out))\n",
        "  "
      ],
      "metadata": {
        "id": "r2FTu9DVg2YF",
        "colab": {
          "base_uri": "https://localhost:8080/",
          "height": 510
        },
        "outputId": "a344f4fe-5b38-4a7c-a07f-f4c84e9eb54c"
      },
      "execution_count": null,
      "outputs": [
        {
          "output_type": "error",
          "ename": "OSError",
          "evalue": "ignored",
          "traceback": [
            "\u001b[0;31m---------------------------------------------------------------------------\u001b[0m",
            "\u001b[0;31mOSError\u001b[0m                                   Traceback (most recent call last)",
            "\u001b[0;32m<ipython-input-27-efaa2fef9368>\u001b[0m in \u001b[0;36m<module>\u001b[0;34m\u001b[0m\n\u001b[1;32m     65\u001b[0m \u001b[0;31m# path_file = os.path.join(os.path.expanduser(\"~\"), '.keras/models/vgg16_weights_tf_dim_ordering_tf_kernels.h5')\u001b[0m\u001b[0;34m\u001b[0m\u001b[0;34m\u001b[0m\u001b[0;34m\u001b[0m\u001b[0m\n\u001b[1;32m     66\u001b[0m \u001b[0mpath_file\u001b[0m \u001b[0;34m=\u001b[0m \u001b[0;34m\"how_to_download_vgg16_weights.h5\"\u001b[0m\u001b[0;34m\u001b[0m\u001b[0;34m\u001b[0m\u001b[0m\n\u001b[0;32m---> 67\u001b[0;31m \u001b[0mmodel\u001b[0m \u001b[0;34m=\u001b[0m \u001b[0mVGG_16\u001b[0m\u001b[0;34m(\u001b[0m\u001b[0mpath_file\u001b[0m\u001b[0;34m)\u001b[0m\u001b[0;34m\u001b[0m\u001b[0;34m\u001b[0m\u001b[0m\n\u001b[0m\u001b[1;32m     68\u001b[0m \u001b[0mmodel\u001b[0m\u001b[0;34m.\u001b[0m\u001b[0msummary\u001b[0m\u001b[0;34m(\u001b[0m\u001b[0;34m)\u001b[0m\u001b[0;34m\u001b[0m\u001b[0;34m\u001b[0m\u001b[0m\n\u001b[1;32m     69\u001b[0m \u001b[0mmodel\u001b[0m\u001b[0;34m.\u001b[0m\u001b[0mcompile\u001b[0m\u001b[0;34m(\u001b[0m\u001b[0moptimizer\u001b[0m\u001b[0;34m=\u001b[0m\u001b[0;34m'sgd'\u001b[0m\u001b[0;34m,\u001b[0m \u001b[0mloss\u001b[0m\u001b[0;34m=\u001b[0m\u001b[0;34m'categorical_crossentropy'\u001b[0m\u001b[0;34m)\u001b[0m\u001b[0;34m\u001b[0m\u001b[0;34m\u001b[0m\u001b[0m\n",
            "\u001b[0;32m<ipython-input-27-efaa2fef9368>\u001b[0m in \u001b[0;36mVGG_16\u001b[0;34m(weights_path)\u001b[0m\n\u001b[1;32m     53\u001b[0m \u001b[0;34m\u001b[0m\u001b[0m\n\u001b[1;32m     54\u001b[0m     \u001b[0;32mif\u001b[0m \u001b[0mweights_path\u001b[0m\u001b[0;34m:\u001b[0m\u001b[0;34m\u001b[0m\u001b[0;34m\u001b[0m\u001b[0m\n\u001b[0;32m---> 55\u001b[0;31m         \u001b[0mmodel\u001b[0m\u001b[0;34m.\u001b[0m\u001b[0mload_weights\u001b[0m\u001b[0;34m(\u001b[0m\u001b[0mweights_path\u001b[0m\u001b[0;34m)\u001b[0m\u001b[0;34m\u001b[0m\u001b[0;34m\u001b[0m\u001b[0m\n\u001b[0m\u001b[1;32m     56\u001b[0m \u001b[0;34m\u001b[0m\u001b[0m\n\u001b[1;32m     57\u001b[0m     \u001b[0;32mreturn\u001b[0m \u001b[0mmodel\u001b[0m\u001b[0;34m\u001b[0m\u001b[0;34m\u001b[0m\u001b[0m\n",
            "\u001b[0;32m/usr/local/lib/python3.7/dist-packages/keras/utils/traceback_utils.py\u001b[0m in \u001b[0;36merror_handler\u001b[0;34m(*args, **kwargs)\u001b[0m\n\u001b[1;32m     65\u001b[0m     \u001b[0;32mexcept\u001b[0m \u001b[0mException\u001b[0m \u001b[0;32mas\u001b[0m \u001b[0me\u001b[0m\u001b[0;34m:\u001b[0m  \u001b[0;31m# pylint: disable=broad-except\u001b[0m\u001b[0;34m\u001b[0m\u001b[0;34m\u001b[0m\u001b[0m\n\u001b[1;32m     66\u001b[0m       \u001b[0mfiltered_tb\u001b[0m \u001b[0;34m=\u001b[0m \u001b[0m_process_traceback_frames\u001b[0m\u001b[0;34m(\u001b[0m\u001b[0me\u001b[0m\u001b[0;34m.\u001b[0m\u001b[0m__traceback__\u001b[0m\u001b[0;34m)\u001b[0m\u001b[0;34m\u001b[0m\u001b[0;34m\u001b[0m\u001b[0m\n\u001b[0;32m---> 67\u001b[0;31m       \u001b[0;32mraise\u001b[0m \u001b[0me\u001b[0m\u001b[0;34m.\u001b[0m\u001b[0mwith_traceback\u001b[0m\u001b[0;34m(\u001b[0m\u001b[0mfiltered_tb\u001b[0m\u001b[0;34m)\u001b[0m \u001b[0;32mfrom\u001b[0m \u001b[0;32mNone\u001b[0m\u001b[0;34m\u001b[0m\u001b[0;34m\u001b[0m\u001b[0m\n\u001b[0m\u001b[1;32m     68\u001b[0m     \u001b[0;32mfinally\u001b[0m\u001b[0;34m:\u001b[0m\u001b[0;34m\u001b[0m\u001b[0;34m\u001b[0m\u001b[0m\n\u001b[1;32m     69\u001b[0m       \u001b[0;32mdel\u001b[0m \u001b[0mfiltered_tb\u001b[0m\u001b[0;34m\u001b[0m\u001b[0;34m\u001b[0m\u001b[0m\n",
            "\u001b[0;32m/usr/local/lib/python3.7/dist-packages/h5py/_hl/files.py\u001b[0m in \u001b[0;36m__init__\u001b[0;34m(self, name, mode, driver, libver, userblock_size, swmr, rdcc_nslots, rdcc_nbytes, rdcc_w0, track_order, fs_strategy, fs_persist, fs_threshold, **kwds)\u001b[0m\n\u001b[1;32m    425\u001b[0m                                fapl, fcpl=make_fcpl(track_order=track_order, fs_strategy=fs_strategy,\n\u001b[1;32m    426\u001b[0m                                fs_persist=fs_persist, fs_threshold=fs_threshold),\n\u001b[0;32m--> 427\u001b[0;31m                                swmr=swmr)\n\u001b[0m\u001b[1;32m    428\u001b[0m \u001b[0;34m\u001b[0m\u001b[0m\n\u001b[1;32m    429\u001b[0m             \u001b[0;32mif\u001b[0m \u001b[0misinstance\u001b[0m\u001b[0;34m(\u001b[0m\u001b[0mlibver\u001b[0m\u001b[0;34m,\u001b[0m \u001b[0mtuple\u001b[0m\u001b[0;34m)\u001b[0m\u001b[0;34m:\u001b[0m\u001b[0;34m\u001b[0m\u001b[0;34m\u001b[0m\u001b[0m\n",
            "\u001b[0;32m/usr/local/lib/python3.7/dist-packages/h5py/_hl/files.py\u001b[0m in \u001b[0;36mmake_fid\u001b[0;34m(name, mode, userblock_size, fapl, fcpl, swmr)\u001b[0m\n\u001b[1;32m    188\u001b[0m         \u001b[0;32mif\u001b[0m \u001b[0mswmr\u001b[0m \u001b[0;32mand\u001b[0m \u001b[0mswmr_support\u001b[0m\u001b[0;34m:\u001b[0m\u001b[0;34m\u001b[0m\u001b[0;34m\u001b[0m\u001b[0m\n\u001b[1;32m    189\u001b[0m             \u001b[0mflags\u001b[0m \u001b[0;34m|=\u001b[0m \u001b[0mh5f\u001b[0m\u001b[0;34m.\u001b[0m\u001b[0mACC_SWMR_READ\u001b[0m\u001b[0;34m\u001b[0m\u001b[0;34m\u001b[0m\u001b[0m\n\u001b[0;32m--> 190\u001b[0;31m         \u001b[0mfid\u001b[0m \u001b[0;34m=\u001b[0m \u001b[0mh5f\u001b[0m\u001b[0;34m.\u001b[0m\u001b[0mopen\u001b[0m\u001b[0;34m(\u001b[0m\u001b[0mname\u001b[0m\u001b[0;34m,\u001b[0m \u001b[0mflags\u001b[0m\u001b[0;34m,\u001b[0m \u001b[0mfapl\u001b[0m\u001b[0;34m=\u001b[0m\u001b[0mfapl\u001b[0m\u001b[0;34m)\u001b[0m\u001b[0;34m\u001b[0m\u001b[0;34m\u001b[0m\u001b[0m\n\u001b[0m\u001b[1;32m    191\u001b[0m     \u001b[0;32melif\u001b[0m \u001b[0mmode\u001b[0m \u001b[0;34m==\u001b[0m \u001b[0;34m'r+'\u001b[0m\u001b[0;34m:\u001b[0m\u001b[0;34m\u001b[0m\u001b[0;34m\u001b[0m\u001b[0m\n\u001b[1;32m    192\u001b[0m         \u001b[0mfid\u001b[0m \u001b[0;34m=\u001b[0m \u001b[0mh5f\u001b[0m\u001b[0;34m.\u001b[0m\u001b[0mopen\u001b[0m\u001b[0;34m(\u001b[0m\u001b[0mname\u001b[0m\u001b[0;34m,\u001b[0m \u001b[0mh5f\u001b[0m\u001b[0;34m.\u001b[0m\u001b[0mACC_RDWR\u001b[0m\u001b[0;34m,\u001b[0m \u001b[0mfapl\u001b[0m\u001b[0;34m=\u001b[0m\u001b[0mfapl\u001b[0m\u001b[0;34m)\u001b[0m\u001b[0;34m\u001b[0m\u001b[0;34m\u001b[0m\u001b[0m\n",
            "\u001b[0;32mh5py/_objects.pyx\u001b[0m in \u001b[0;36mh5py._objects.with_phil.wrapper\u001b[0;34m()\u001b[0m\n",
            "\u001b[0;32mh5py/_objects.pyx\u001b[0m in \u001b[0;36mh5py._objects.with_phil.wrapper\u001b[0;34m()\u001b[0m\n",
            "\u001b[0;32mh5py/h5f.pyx\u001b[0m in \u001b[0;36mh5py.h5f.open\u001b[0;34m()\u001b[0m\n",
            "\u001b[0;31mOSError\u001b[0m: Unable to open file (file signature not found)"
          ]
        }
      ]
    },
    {
      "cell_type": "code",
      "source": [],
      "metadata": {
        "id": "pFHsOtPcCbB2"
      },
      "execution_count": null,
      "outputs": []
    },
    {
      "cell_type": "code",
      "source": [],
      "metadata": {
        "id": "F9v7SvsmCa_v"
      },
      "execution_count": null,
      "outputs": []
    },
    {
      "cell_type": "code",
      "source": [
        "import tensorflow as tf\n",
        "from tensorflow.keras import layers, models\n",
        "import cv2, numpy as np\n",
        "import os\n",
        "\n",
        "im = cv2.resize(cv2.imread('cat.jpg'), (224, 224)).astype(np.float32)\n",
        "#im = im.transpose((2,0,1))\n",
        "im.shape"
      ],
      "metadata": {
        "colab": {
          "base_uri": "https://localhost:8080/"
        },
        "id": "_9Hek9W0cDuP",
        "outputId": "21484aff-3177-4c9e-bc28-21df7d0ec8ad"
      },
      "execution_count": null,
      "outputs": [
        {
          "output_type": "execute_result",
          "data": {
            "text/plain": [
              "(224, 224, 3)"
            ]
          },
          "metadata": {},
          "execution_count": 4
        }
      ]
    },
    {
      "cell_type": "code",
      "source": [
        "im = np.expand_dims(im, axis=0)\n",
        "im.shape"
      ],
      "metadata": {
        "colab": {
          "base_uri": "https://localhost:8080/"
        },
        "id": "oZnwU7tGgqSi",
        "outputId": "d9634a6d-bc33-4a8b-8ae3-bdc0c7c15c59"
      },
      "execution_count": null,
      "outputs": [
        {
          "output_type": "execute_result",
          "data": {
            "text/plain": [
              "(1, 224, 224, 3)"
            ]
          },
          "metadata": {},
          "execution_count": 5
        }
      ]
    },
    {
      "cell_type": "code",
      "source": [
        "path_file = os.path.join(os.path.expanduser(\"~\"), '/content/how_to_download_vgg16_weights.h5')"
      ],
      "metadata": {
        "id": "FlpQ5wjeAav2"
      },
      "execution_count": null,
      "outputs": []
    },
    {
      "cell_type": "code",
      "source": [
        "print(path_file)"
      ],
      "metadata": {
        "colab": {
          "base_uri": "https://localhost:8080/"
        },
        "id": "wUdSlUR9Abuz",
        "outputId": "a56da9af-b2aa-4a27-9819-d4f7fcfa76da"
      },
      "execution_count": null,
      "outputs": [
        {
          "output_type": "stream",
          "name": "stdout",
          "text": [
            "/content/how_to_download_vgg16_weights.h5\n"
          ]
        }
      ]
    },
    {
      "cell_type": "code",
      "source": [],
      "metadata": {
        "id": "LyzkJP5ThUmL"
      },
      "execution_count": null,
      "outputs": []
    },
    {
      "cell_type": "code",
      "source": [],
      "metadata": {
        "id": "9J41oo6m1_BD"
      },
      "execution_count": null,
      "outputs": []
    },
    {
      "cell_type": "code",
      "source": [],
      "metadata": {
        "id": "Xh732Cts1-_C"
      },
      "execution_count": null,
      "outputs": []
    },
    {
      "cell_type": "code",
      "source": [],
      "metadata": {
        "id": "82PJrU6k1-9D"
      },
      "execution_count": null,
      "outputs": []
    },
    {
      "cell_type": "code",
      "source": [],
      "metadata": {
        "id": "jZq-tGo-1-6z"
      },
      "execution_count": null,
      "outputs": []
    },
    {
      "cell_type": "code",
      "source": [],
      "metadata": {
        "id": "raWC85EL1-4l"
      },
      "execution_count": null,
      "outputs": []
    },
    {
      "cell_type": "markdown",
      "source": [
        "# 모델 저장 심화\n",
        "\n",
        "-> 저장 방법 분석\n",
        "\n",
        "참고 : https://ysyblog.tistory.com/153"
      ],
      "metadata": {
        "id": "OGtNN_kh1_V4"
      }
    },
    {
      "cell_type": "markdown",
      "source": [
        "```\n",
        "궁금증 : \n",
        "\n",
        "file path로 저장을 하면 ↓의 사진처럼 생긴다.\n",
        "\n",
        "-> 그러면 로드할 때는 checkpoint 파일로 해야하는 거 아닌가?\n",
        "왜 file_path로 하지?\n",
        "\n",
        "```"
      ],
      "metadata": {
        "id": "MT7erbn92pNa"
      }
    },
    {
      "cell_type": "markdown",
      "source": [
        "![캡처.PNG](data:image/png;base64,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)"
      ],
      "metadata": {
        "id": "xKTxS-mc3YDQ"
      }
    },
    {
      "cell_type": "code",
      "source": [
        "file_path = \"my_model2\"\n",
        "\n",
        "# os.mkdir(file_path)\n",
        "model.save_weights(file_path) # 가중치 저장\n",
        "model.load_weights(file_path) # 모델 상태 복원"
      ],
      "metadata": {
        "id": "3fREYiUA1_qC"
      },
      "execution_count": null,
      "outputs": []
    },
    {
      "cell_type": "markdown",
      "source": [
        "## 위 블로그에서 해답을 알아보자\n",
        "\n",
        "-> index와 .data에 체크포인트를 매칭하는 checksum이 있다. 따라서 file path로 접근하면 checkpoint를 쓸 수 있다."
      ],
      "metadata": {
        "id": "on5hFZ-Y37Yi"
      }
    },
    {
      "cell_type": "markdown",
      "source": [
        "```\n",
        "1. 학습이 끝난 모델의 파라미터만 저장 = 가중치를 저장하여 나중에 재학습 없이 학습된 가중치를 사용할 수 있다.\n",
        "\n",
        "- 저장형식\n",
        "1. Checkpoint(기본 방식0\n",
        "2. HDF5 : save_weights(   , save_format = 'h5')\n",
        "```"
      ],
      "metadata": {
        "id": "tiK0a3vz4Qvq"
      }
    },
    {
      "cell_type": "code",
      "source": [
        "import os\n",
        "cur_dir = os.getcwd() # 현재 작업 디렉\n",
        "ckpt_dir = \"checkpoints\" # weight를 저장할 디렉토리\n",
        "file_name = \"mnist_cnn_weights.ckpt\" # 저장 파일명\n",
        "\n",
        "#현재 작업 dir와 w를 저장할 dir을 join함\n",
        "# ,로 구분된 두개를 합쳐서 문자열로 반환\n",
        "dir = os.path.join(cur_dir, ckpt_dir) \n",
        "os.makedirs(dir, exist_ok = True) # dir이라는 폴더를 만듬\n",
        "\n",
        "file_path = os.path.join(dir, file_name) #dir 경로 + 파일 이름의 파일 경로를 join함\n",
        "print(file_path)"
      ],
      "metadata": {
        "colab": {
          "base_uri": "https://localhost:8080/"
        },
        "id": "gBKlmcVE3uNH",
        "outputId": "eb5ae80f-5f54-498e-92a6-e429d37ceac3"
      },
      "execution_count": null,
      "outputs": [
        {
          "output_type": "stream",
          "name": "stdout",
          "text": [
            "/content/checkpoints/mnist_cnn_weights.ckpt\n"
          ]
        }
      ]
    },
    {
      "cell_type": "code",
      "source": [],
      "metadata": {
        "id": "OiZTqMg9FJPy"
      },
      "execution_count": null,
      "outputs": []
    },
    {
      "cell_type": "code",
      "source": [],
      "metadata": {
        "id": "ZkZVGREAFJNa"
      },
      "execution_count": null,
      "outputs": []
    },
    {
      "cell_type": "markdown",
      "source": [
        "## 훈련된 모델 만들기를 위한 모델 훈련하기"
      ],
      "metadata": {
        "id": "f9Mmwq9Q7JE2"
      }
    },
    {
      "cell_type": "code",
      "source": [
        "# ① modelcheckpoint 예제\n",
        "\n",
        "\n",
        "import tensorflow as tf\n",
        "import numpy as np\n",
        "from tensorflow import keras\n",
        "from tensorflow.keras.layers import Dense, Dropout\n",
        "from tensorflow.keras.models import Sequential\n",
        "from tensorflow.keras.datasets import mnist\n",
        "from tensorflow.keras.utils import to_categorical\n",
        "\n",
        "\n",
        "# network and training\n",
        "EPOCHS = 10\n",
        "BATCH_SIZE = 128\n",
        "VERBOSE = 1\n",
        "NB_CLASSES = 10   # number of outputs = number of digits\n",
        "N_HIDDEN = 128 \n",
        "VALIDATION_SPLIT=0.2\n",
        "\n",
        "mnist = keras.datasets.mnist\n",
        "(X_train, Y_train), (X_test, Y_test) = mnist.load_data()\n",
        "\n",
        "RESHAPE = 784\n",
        "\n",
        "X_train = X_train.reshape(60000, RESHAPE)\n",
        "X_test = X_test.reshape(10000, RESHAPE)\n",
        " \n",
        "X_train = X_train.astype('float32') # 32비트 정밀도를 갖도록 float32로 변환, 0 ~ 1사이로 정규화 -> 이렇게 하면 소수점 20자리가 4자리로 안정화된다\n",
        "X_test = X_test.astype('float32')\n",
        "\n",
        "# normalize in [0, 1]\n",
        "X_train /= 255\n",
        "X_test /= 255\n",
        "\n",
        "\n",
        "Y_train = tf.keras.utils.to_categorical(Y_train, NB_CLASSES)\n",
        "Y_test = tf.keras.utils.to_categorical(Y_test, NB_CLASSES)\n",
        "\n",
        "\n",
        "#build the model\n",
        "\n",
        "DROPOUT = 0.3\n",
        "\n",
        "model = tf.keras.models.Sequential()\n",
        "model.add(keras.layers.Dense(N_HIDDEN,\n",
        "   \t\tinput_shape=(RESHAPE,),\n",
        "   \t\tname='dense_layer', activation='relu'))\n",
        "model.add(keras.layers.Dropout(DROPOUT))\n",
        "model.add(keras.layers.Dense(N_HIDDEN,\n",
        "   \t\tname='dense_layer_2', activation='relu'))\n",
        "model.add(keras.layers.Dropout(DROPOUT))\n",
        "model.add(keras.layers.Dense(NB_CLASSES,\n",
        "   \t\tname='dense_layer_3', activation='softmax'))\n",
        "\n",
        "model.summary()\n",
        "\n",
        "# compiling the model\n",
        "model.compile(optimizer='SGD', \n",
        "              loss='categorical_crossentropy',\n",
        "              metrics=['accuracy'])\n",
        "\n",
        "#training the model\n",
        "model.fit(X_train, Y_train,\n",
        "\t\tbatch_size=BATCH_SIZE, epochs=EPOCHS,\n",
        "\t\tverbose=VERBOSE, validation_split=VALIDATION_SPLIT) \n",
        "\n",
        "#evaluate the model\n",
        "test_loss, test_acc = model.evaluate(X_test, Y_test)\n",
        "print('Test accuracy:', test_acc)\n",
        "\n",
        "# making prediction\n",
        "predictions = model.predict(X_test)\n"
      ],
      "metadata": {
        "colab": {
          "base_uri": "https://localhost:8080/"
        },
        "id": "0X3cZayc3uGq",
        "outputId": "5c66cd0a-a403-4f75-a096-c1a66e1be977"
      },
      "execution_count": null,
      "outputs": [
        {
          "output_type": "stream",
          "name": "stdout",
          "text": [
            "Downloading data from https://storage.googleapis.com/tensorflow/tf-keras-datasets/mnist.npz\n",
            "11493376/11490434 [==============================] - 0s 0us/step\n",
            "11501568/11490434 [==============================] - 0s 0us/step\n",
            "Model: \"sequential\"\n",
            "_________________________________________________________________\n",
            " Layer (type)                Output Shape              Param #   \n",
            "=================================================================\n",
            " dense_layer (Dense)         (None, 128)               100480    \n",
            "                                                                 \n",
            " dropout (Dropout)           (None, 128)               0         \n",
            "                                                                 \n",
            " dense_layer_2 (Dense)       (None, 128)               16512     \n",
            "                                                                 \n",
            " dropout_1 (Dropout)         (None, 128)               0         \n",
            "                                                                 \n",
            " dense_layer_3 (Dense)       (None, 10)                1290      \n",
            "                                                                 \n",
            "=================================================================\n",
            "Total params: 118,282\n",
            "Trainable params: 118,282\n",
            "Non-trainable params: 0\n",
            "_________________________________________________________________\n",
            "Epoch 1/10\n",
            "375/375 [==============================] - 3s 6ms/step - loss: 1.6897 - accuracy: 0.4622 - val_loss: 0.8724 - val_accuracy: 0.8120\n",
            "Epoch 2/10\n",
            "375/375 [==============================] - 2s 6ms/step - loss: 0.8991 - accuracy: 0.7242 - val_loss: 0.5182 - val_accuracy: 0.8710\n",
            "Epoch 3/10\n",
            "375/375 [==============================] - 2s 5ms/step - loss: 0.6816 - accuracy: 0.7891 - val_loss: 0.4158 - val_accuracy: 0.8915\n",
            "Epoch 4/10\n",
            "375/375 [==============================] - 2s 5ms/step - loss: 0.5789 - accuracy: 0.8246 - val_loss: 0.3637 - val_accuracy: 0.9010\n",
            "Epoch 5/10\n",
            "375/375 [==============================] - 2s 6ms/step - loss: 0.5245 - accuracy: 0.8409 - val_loss: 0.3343 - val_accuracy: 0.9065\n",
            "Epoch 6/10\n",
            "375/375 [==============================] - 2s 5ms/step - loss: 0.4817 - accuracy: 0.8570 - val_loss: 0.3107 - val_accuracy: 0.9117\n",
            "Epoch 7/10\n",
            "375/375 [==============================] - 2s 5ms/step - loss: 0.4470 - accuracy: 0.8668 - val_loss: 0.2937 - val_accuracy: 0.9147\n",
            "Epoch 8/10\n",
            "375/375 [==============================] - 2s 6ms/step - loss: 0.4264 - accuracy: 0.8746 - val_loss: 0.2791 - val_accuracy: 0.9189\n",
            "Epoch 9/10\n",
            "375/375 [==============================] - 2s 5ms/step - loss: 0.4043 - accuracy: 0.8822 - val_loss: 0.2668 - val_accuracy: 0.9211\n",
            "Epoch 10/10\n",
            "375/375 [==============================] - 3s 7ms/step - loss: 0.3878 - accuracy: 0.8846 - val_loss: 0.2566 - val_accuracy: 0.9241\n",
            "313/313 [==============================] - 1s 2ms/step - loss: 0.2578 - accuracy: 0.9254\n",
            "Test accuracy: 0.9254000186920166\n"
          ]
        }
      ]
    },
    {
      "cell_type": "markdown",
      "source": [
        "## 모델 파라미터 저장"
      ],
      "metadata": {
        "id": "yuhXi1Ag7agu"
      }
    },
    {
      "cell_type": "code",
      "source": [
        "# 저장은 file path로 하고 위 사진과 같은 파일들이 생성됨\n",
        "model.save_weights(file_path)"
      ],
      "metadata": {
        "id": "cIK8vi9K3uEu"
      },
      "execution_count": null,
      "outputs": []
    },
    {
      "cell_type": "markdown",
      "source": [
        "## 모델 파라미터 불러오기\n",
        "\n",
        "-> 이를 위해서 모델 구조 또한 같이 저장하고 그대로 넣어줘야한다!"
      ],
      "metadata": {
        "id": "oZtnkJES9txm"
      }
    },
    {
      "cell_type": "code",
      "source": [
        "model_json = model.to_json()\n",
        "with open(\"model.json\", \"w\") as json_file : \n",
        "    json_file.write(model_json)"
      ],
      "metadata": {
        "id": "Gi7KIhVP8cdd"
      },
      "execution_count": null,
      "outputs": []
    },
    {
      "cell_type": "code",
      "source": [
        "from keras.models import model_from_json \n",
        "\n",
        "json_file = open(\"model.json\", \"r\")\n",
        "loaded_model_json = json_file.read() \n",
        "json_file.close()\n",
        "\n",
        "loaded_model = model_from_json(loaded_model_json)"
      ],
      "metadata": {
        "id": "1Kp-5zyV8cb4"
      },
      "execution_count": null,
      "outputs": []
    },
    {
      "cell_type": "code",
      "source": [
        "# 결론적으로 똑같은 file_path를 인자로 넣는게 맞다.\n",
        "loaded_model.load_weights(file_path)"
      ],
      "metadata": {
        "colab": {
          "base_uri": "https://localhost:8080/"
        },
        "id": "MaBXRRlM8cZy",
        "outputId": "9686dcf2-fda0-45e8-e1d9-7707ebf6e6a1"
      },
      "execution_count": null,
      "outputs": [
        {
          "output_type": "execute_result",
          "data": {
            "text/plain": [
              "<tensorflow.python.training.tracking.util.CheckpointLoadStatus at 0x7f374b99fad0>"
            ]
          },
          "metadata": {},
          "execution_count": 18
        }
      ]
    },
    {
      "cell_type": "code",
      "source": [
        "# 이건 걍 무조건 해야함\n",
        "loaded_model.compile(optimizer='SGD', \n",
        "              loss='categorical_crossentropy',\n",
        "              metrics=['accuracy'])"
      ],
      "metadata": {
        "id": "47KCqlgZ9lLo"
      },
      "execution_count": null,
      "outputs": []
    },
    {
      "cell_type": "code",
      "source": [
        "test_loss, test_acc = loaded_model.evaluate(X_test, Y_test)\n",
        "print('Test accuracy:', test_acc)"
      ],
      "metadata": {
        "colab": {
          "base_uri": "https://localhost:8080/"
        },
        "id": "1YTuRxB99bAu",
        "outputId": "d1ec4b61-5f6c-488e-8b52-a0c252555721"
      },
      "execution_count": null,
      "outputs": [
        {
          "output_type": "stream",
          "name": "stdout",
          "text": [
            "313/313 [==============================] - 1s 2ms/step - loss: 0.2578 - accuracy: 0.9254\n",
            "Test accuracy: 0.9254000186920166\n"
          ]
        }
      ]
    },
    {
      "cell_type": "code",
      "source": [],
      "metadata": {
        "id": "zC8IimnP8cXz"
      },
      "execution_count": null,
      "outputs": []
    },
    {
      "cell_type": "code",
      "source": [],
      "metadata": {
        "id": "JPJ9u_co9sJT"
      },
      "execution_count": null,
      "outputs": []
    },
    {
      "cell_type": "code",
      "source": [],
      "metadata": {
        "id": "7s_k75ux9sHT"
      },
      "execution_count": null,
      "outputs": []
    },
    {
      "cell_type": "markdown",
      "source": [
        "### vgg 라이브러리 사용\n",
        "\n",
        "-> 285가 브라질 고양이다."
      ],
      "metadata": {
        "id": "0jLw1fzEhxS6"
      }
    },
    {
      "cell_type": "code",
      "source": [
        "from tensorflow.keras.models import Sequential, Model\n",
        "from tensorflow.keras.layers import Input, Dense , Conv2D , Dropout , Flatten , GlobalAveragePooling2D\n",
        "from tensorflow.keras.optimizers import Adam"
      ],
      "metadata": {
        "id": "TtJc_kIRkWGV"
      },
      "execution_count": null,
      "outputs": []
    },
    {
      "cell_type": "code",
      "source": [
        "import tensorflow as tf\n",
        "from tensorflow.keras.applications.vgg16 import VGG16\n",
        "import matplotlib.pyplot as plt\n",
        "import numpy as np\n",
        "import cv2\n",
        "\n",
        "# include_top을 하면 vgg 분류기까지 가져온다는 얘기\n",
        "model = VGG16(weights='imagenet', include_top=True) \n",
        "model.compile(optimizer='sgd', loss='categorical_crossentropy')\n",
        "\n",
        "# resize into VGG16 trained images' format\n",
        "im = cv2.resize(cv2.imread('/content/cat.jpg'), (224, 224))\n",
        "im = np.expand_dims(im, axis=0) # 1, 224, 224, 3이 된다.\n",
        "im.astype(np.float32)\n",
        "\n",
        "# predict\n",
        "out = model.predict(im)\n",
        "index = np.argmax(out)\n",
        "print(index)\n",
        "\n",
        "#plt.plot(out.ravel())\n",
        "#plt.show()"
      ],
      "metadata": {
        "colab": {
          "base_uri": "https://localhost:8080/"
        },
        "id": "4tgwy0HIhXdI",
        "outputId": "b2dfbe75-0123-4592-bb04-5965fdefde33"
      },
      "execution_count": null,
      "outputs": [
        {
          "output_type": "stream",
          "name": "stdout",
          "text": [
            "285\n"
          ]
        }
      ]
    },
    {
      "cell_type": "markdown",
      "source": [
        "### 전이학습에 분류기만 추가로 쌓는 방법"
      ],
      "metadata": {
        "id": "7GgUYU3ti889"
      }
    },
    {
      "cell_type": "code",
      "source": [
        "base_model = VGG16(input_shape=(32, 32, 3), include_top=False, weights='imagenet') # 특징 추출 layer의 w들은 유지"
      ],
      "metadata": {
        "colab": {
          "base_uri": "https://localhost:8080/"
        },
        "id": "-qXlArh1hUj1",
        "outputId": "29e09958-09f7-45c2-b60a-d5e5b7a27f3b"
      },
      "execution_count": null,
      "outputs": [
        {
          "output_type": "stream",
          "name": "stdout",
          "text": [
            "Downloading data from https://storage.googleapis.com/tensorflow/keras-applications/vgg16/vgg16_weights_tf_dim_ordering_tf_kernels_notop.h5\n",
            "58892288/58889256 [==============================] - 0s 0us/step\n",
            "58900480/58889256 [==============================] - 0s 0us/step\n"
          ]
        }
      ]
    },
    {
      "cell_type": "code",
      "source": [
        "bm_output = base_model.output"
      ],
      "metadata": {
        "id": "jOvW5rOPhUhv"
      },
      "execution_count": null,
      "outputs": []
    },
    {
      "cell_type": "code",
      "source": [
        "output_layer = GlobalAveragePooling2D()(bm_output)\n",
        "output_layer = Dense(50, activation='relu')(output_layer)\n",
        "output_layer = Dense(10, activation='softmax')(output_layer)"
      ],
      "metadata": {
        "id": "SrKan7AKhUcW"
      },
      "execution_count": null,
      "outputs": []
    },
    {
      "cell_type": "code",
      "source": [
        "output_layer = Dense(10, activation='softmax')(output_layer)\n",
        "model = Model(inputs=base_model.input, outputs=output_layer)"
      ],
      "metadata": {
        "id": "vqjC-xoGhn8K"
      },
      "execution_count": null,
      "outputs": []
    },
    {
      "cell_type": "code",
      "source": [
        "model.compile(optimizer=Adam(lr=0.001), loss='sparse_categorical_crossentropy', metrics=['accuracy'])"
      ],
      "metadata": {
        "colab": {
          "base_uri": "https://localhost:8080/"
        },
        "id": "zTBKXElMkdif",
        "outputId": "552222f2-5835-4f44-f719-463cab1c4968"
      },
      "execution_count": null,
      "outputs": [
        {
          "output_type": "stream",
          "name": "stderr",
          "text": [
            "/usr/local/lib/python3.7/dist-packages/keras/optimizer_v2/adam.py:105: UserWarning: The `lr` argument is deprecated, use `learning_rate` instead.\n",
            "  super(Adam, self).__init__(name, **kwargs)\n"
          ]
        }
      ]
    },
    {
      "cell_type": "code",
      "source": [
        "batch_size = 64\n",
        "epochs = 10\n",
        "\n",
        "# 이러면 분류기만 내 이미지로 다시 훈련 하는 것이다 -> 내 이미지와 사전학습 이미지(이미지넷)가 비슷하면 layer를 적게 쌓고, 안 비슷하면 많이 쌓아야한다.\n",
        "history = model.fit(x=train_x, y=train_y, batch_size=batch_size, epochs=epochs, validation_data=(val_x, val_y)) "
      ],
      "metadata": {
        "id": "SrF3cT8akfo4"
      },
      "execution_count": null,
      "outputs": []
    },
    {
      "cell_type": "code",
      "source": [],
      "metadata": {
        "id": "1JXe9VpulD6s"
      },
      "execution_count": null,
      "outputs": []
    },
    {
      "cell_type": "code",
      "source": [],
      "metadata": {
        "id": "Oxya5N9KlD4a"
      },
      "execution_count": null,
      "outputs": []
    },
    {
      "cell_type": "code",
      "source": [],
      "metadata": {
        "id": "qnV8uFPHlD2U"
      },
      "execution_count": null,
      "outputs": []
    },
    {
      "cell_type": "markdown",
      "source": [
        "# 사전 구축된 모델에서 특징만 추출\n",
        "\n",
        "원래는 모델은 분류기를 때고 가져와서 추가로 layer를 쌓고 재학습하는 것이 전이학습의 기본이다.\n",
        "<br> -> 여기서는 분류기를 버리고 추가로 쌓는 것이 아니라 output을 중간 계층으로 잡는다.\n",
        "\n",
        "<br><br>\n",
        "\n",
        "\n",
        "이것은 같은 얘기라고 생각할 수 있는데 중간 계층에서 바로 predict를 한다.\n",
        "이는 중간 계층은 이미지에서 중요한 특징을 추출하는 능력을 가지며, 이러한 특징은 다른 종류의 분류에 도움이 될 가능성이 더 높으므로 중간계층의 일반화된 예측 능력을 사용하자는 의도이다."
      ],
      "metadata": {
        "id": "Ea2AXScGlEUF"
      }
    },
    {
      "cell_type": "code",
      "source": [
        "import tensorflow as tf\n",
        "from tensorflow.keras.applications.vgg16 import VGG16 \n",
        "from tensorflow.keras import models\n",
        "from tensorflow.keras.preprocessing import image\n",
        "from tensorflow.keras.applications.vgg16 import preprocess_input\n",
        "import numpy as np\n",
        "import cv2\n",
        "\n",
        "# prebuild model with pre-trained weights on imagenet\n",
        "base_model = VGG16(weights='imagenet', include_top=True)\n",
        "print (base_model)\n",
        "for i, layer in enumerate(base_model.layers):\n",
        "\tprint (i, layer.name, layer.output_shape)\n",
        "\n",
        "# extract features from block4_pool block\n",
        "model = models.Model(inputs=base_model.input, \n",
        "\toutputs=base_model.get_layer('block4_pool').output)\n",
        "\n",
        "img_path = 'cat.jpg'\n",
        "img = image.load_img(img_path, target_size=(224, 224))\n",
        "x = image.img_to_array(img)\n",
        "x = np.expand_dims(x, axis=0)\n",
        "x = preprocess_input(x)\n",
        "\n",
        "# get the features from this block\n",
        "features = model.predict(x)\n",
        "print(features)"
      ],
      "metadata": {
        "id": "njmyj0belHjC"
      },
      "execution_count": null,
      "outputs": []
    }
  ]
}