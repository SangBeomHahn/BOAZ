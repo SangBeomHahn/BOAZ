{
  "nbformat": 4,
  "nbformat_minor": 0,
  "metadata": {
    "colab": {
      "provenance": [],
      "collapsed_sections": [],
      "authorship_tag": "ABX9TyMtJZ2auYnzU3vyQTbr6m6f",
      "include_colab_link": true
    },
    "kernelspec": {
      "name": "python3",
      "display_name": "Python 3"
    },
    "language_info": {
      "name": "python"
    }
  },
  "cells": [
    {
      "cell_type": "markdown",
      "metadata": {
        "id": "view-in-github",
        "colab_type": "text"
      },
      "source": [
        "<a href=\"https://colab.research.google.com/github/SangBeom-Hahn/BOAZ/blob/main/DNN_%EB%AF%B8%EB%8B%88%ED%94%84%EB%A1%9C%EC%A0%9D%ED%8A%B8.ipynb\" target=\"_parent\"><img src=\"https://colab.research.google.com/assets/colab-badge.svg\" alt=\"Open In Colab\"/></a>"
      ]
    },
    {
      "cell_type": "markdown",
      "source": [
        "## 강의에서 배운 내용을 새로운 데이터로 적용해 보자\n",
        "\n",
        "1. 새로운 데이터 준비\n",
        "2. 학습\n",
        "3. 모델 저장\n",
        "4. 로드해서 재활용까지"
      ],
      "metadata": {
        "id": "TJPd4xW1a4Jv"
      }
    },
    {
      "cell_type": "code",
      "execution_count": null,
      "metadata": {
        "id": "EytnH6zdaw_S"
      },
      "outputs": [],
      "source": [
        "import tensorflow as tf\n",
        "import numpy as np\n",
        "from tensorflow import keras\n",
        "from sklearn.datasets import load_breast_cancer # 유방암 데이터\n",
        "from sklearn.model_selection import train_test_split\n",
        "from tensorflow.keras.callbacks import EarlyStopping"
      ]
    },
    {
      "cell_type": "code",
      "source": [
        "# network and training\n",
        "EPOCHS = 200\n",
        "BATCH_SIZE = 20\n",
        "VERBOSE = 1\n",
        "NB_CLASSES = 1   # number of outputs = number of digits\n",
        "N_HIDDEN = 128 # 은닉층 개수?\n",
        "VALIDATION_SPLIT=0.2"
      ],
      "metadata": {
        "id": "JqBdR-oEeYiD"
      },
      "execution_count": null,
      "outputs": []
    },
    {
      "cell_type": "code",
      "source": [
        "cancer = load_breast_cancer()"
      ],
      "metadata": {
        "id": "rVNakwhgeZ4w"
      },
      "execution_count": null,
      "outputs": []
    },
    {
      "cell_type": "code",
      "source": [
        "X_train,X_test,y_train,y_test = train_test_split(cancer.data,cancer.target)"
      ],
      "metadata": {
        "id": "l0boGojmemSP"
      },
      "execution_count": null,
      "outputs": []
    },
    {
      "cell_type": "code",
      "source": [
        "print(X_train.shape, y_train.shape)"
      ],
      "metadata": {
        "colab": {
          "base_uri": "https://localhost:8080/"
        },
        "id": "XP8vKzv2e2bn",
        "outputId": "f638c234-52d3-46bb-c7c2-11d3c2439cdb"
      },
      "execution_count": null,
      "outputs": [
        {
          "output_type": "stream",
          "name": "stdout",
          "text": [
            "(426, 30) (426,)\n"
          ]
        }
      ]
    },
    {
      "cell_type": "code",
      "source": [
        "#build the model\n",
        "\n",
        "DROPOUT = 0.3\n",
        "RESHAPED = 30\n",
        "\n",
        "model = tf.keras.models.Sequential()\n",
        "model.add(keras.layers.Dense(N_HIDDEN,\n",
        "   \t\tinput_shape=(RESHAPED,),\n",
        "   \t\tname='dense_layer', activation='relu'))\n",
        "model.add(keras.layers.Dropout(DROPOUT))\n",
        "\n",
        "model.add(keras.layers.Dense(N_HIDDEN,\n",
        "   \t\tname='dense_layer_2', activation='relu'))\n",
        "model.add(keras.layers.Dropout(DROPOUT))\n",
        "\n",
        "model.add(keras.layers.Dense(NB_CLASSES,\n",
        "   \t\tname='dense_layer_3', activation='sigmoid'))"
      ],
      "metadata": {
        "id": "VemOPUrWensq"
      },
      "execution_count": null,
      "outputs": []
    },
    {
      "cell_type": "code",
      "source": [
        "model.summary()"
      ],
      "metadata": {
        "colab": {
          "base_uri": "https://localhost:8080/"
        },
        "id": "t3609bt2fRUP",
        "outputId": "407b9357-3574-4ecd-c923-1e2b0e868f39"
      },
      "execution_count": null,
      "outputs": [
        {
          "output_type": "stream",
          "name": "stdout",
          "text": [
            "Model: \"sequential_2\"\n",
            "_________________________________________________________________\n",
            " Layer (type)                Output Shape              Param #   \n",
            "=================================================================\n",
            " dense_layer (Dense)         (None, 128)               3968      \n",
            "                                                                 \n",
            " dropout_4 (Dropout)         (None, 128)               0         \n",
            "                                                                 \n",
            " dense_layer_2 (Dense)       (None, 128)               16512     \n",
            "                                                                 \n",
            " dropout_5 (Dropout)         (None, 128)               0         \n",
            "                                                                 \n",
            " dense_layer_3 (Dense)       (None, 1)                 129       \n",
            "                                                                 \n",
            "=================================================================\n",
            "Total params: 20,609\n",
            "Trainable params: 20,609\n",
            "Non-trainable params: 0\n",
            "_________________________________________________________________\n"
          ]
        }
      ]
    },
    {
      "cell_type": "code",
      "source": [
        "# compiling the model\n",
        "model.compile(optimizer='Adam', \n",
        "              loss='binary_crossentropy',\n",
        "              metrics=['accuracy'])"
      ],
      "metadata": {
        "id": "gSPvNuOGfS6A"
      },
      "execution_count": null,
      "outputs": []
    },
    {
      "cell_type": "code",
      "source": [
        "early_stopping = EarlyStopping(monitor=\"val_loss\", patience=20)"
      ],
      "metadata": {
        "id": "BV5_kjX8gJaW"
      },
      "execution_count": null,
      "outputs": []
    },
    {
      "cell_type": "code",
      "source": [
        "history = model.fit(X_train, y_train,\n",
        "\t\tbatch_size=BATCH_SIZE, epochs=EPOCHS,\n",
        "\t\tverbose=VERBOSE, validation_split=VALIDATION_SPLIT,\n",
        "    callbacks=[early_stopping])"
      ],
      "metadata": {
        "colab": {
          "base_uri": "https://localhost:8080/"
        },
        "id": "qvTLWu1xfYug",
        "outputId": "4dc7e7f5-e9f4-4940-b79f-76a916d73a62"
      },
      "execution_count": null,
      "outputs": [
        {
          "output_type": "stream",
          "name": "stdout",
          "text": [
            "Epoch 1/200\n",
            "17/17 [==============================] - 0s 6ms/step - loss: 0.1748 - accuracy: 0.9147 - val_loss: 0.1892 - val_accuracy: 0.9302\n",
            "Epoch 2/200\n",
            "17/17 [==============================] - 0s 3ms/step - loss: 0.1978 - accuracy: 0.9294 - val_loss: 0.1909 - val_accuracy: 0.9070\n",
            "Epoch 3/200\n",
            "17/17 [==============================] - 0s 4ms/step - loss: 0.1811 - accuracy: 0.9235 - val_loss: 0.1946 - val_accuracy: 0.9070\n",
            "Epoch 4/200\n",
            "17/17 [==============================] - 0s 4ms/step - loss: 0.1766 - accuracy: 0.9176 - val_loss: 0.1958 - val_accuracy: 0.9070\n",
            "Epoch 5/200\n",
            "17/17 [==============================] - 0s 4ms/step - loss: 0.1818 - accuracy: 0.9265 - val_loss: 0.1967 - val_accuracy: 0.9070\n",
            "Epoch 6/200\n",
            "17/17 [==============================] - 0s 4ms/step - loss: 0.1659 - accuracy: 0.9294 - val_loss: 0.2033 - val_accuracy: 0.9302\n",
            "Epoch 7/200\n",
            "17/17 [==============================] - 0s 5ms/step - loss: 0.1856 - accuracy: 0.9324 - val_loss: 0.1834 - val_accuracy: 0.9070\n",
            "Epoch 8/200\n",
            "17/17 [==============================] - 0s 4ms/step - loss: 0.1588 - accuracy: 0.9382 - val_loss: 0.1898 - val_accuracy: 0.9302\n",
            "Epoch 9/200\n",
            "17/17 [==============================] - 0s 4ms/step - loss: 0.1612 - accuracy: 0.9353 - val_loss: 0.1894 - val_accuracy: 0.9186\n",
            "Epoch 10/200\n",
            "17/17 [==============================] - 0s 4ms/step - loss: 0.1643 - accuracy: 0.9441 - val_loss: 0.1989 - val_accuracy: 0.9302\n",
            "Epoch 11/200\n",
            "17/17 [==============================] - 0s 4ms/step - loss: 0.1757 - accuracy: 0.9294 - val_loss: 0.1938 - val_accuracy: 0.9070\n",
            "Epoch 12/200\n",
            "17/17 [==============================] - 0s 4ms/step - loss: 0.1826 - accuracy: 0.9265 - val_loss: 0.1873 - val_accuracy: 0.9186\n",
            "Epoch 13/200\n",
            "17/17 [==============================] - 0s 5ms/step - loss: 0.1756 - accuracy: 0.9382 - val_loss: 0.1944 - val_accuracy: 0.9186\n",
            "Epoch 14/200\n",
            "17/17 [==============================] - 0s 4ms/step - loss: 0.1762 - accuracy: 0.9353 - val_loss: 0.2007 - val_accuracy: 0.9070\n",
            "Epoch 15/200\n",
            "17/17 [==============================] - 0s 4ms/step - loss: 0.1746 - accuracy: 0.9471 - val_loss: 0.1959 - val_accuracy: 0.9186\n",
            "Epoch 16/200\n",
            "17/17 [==============================] - 0s 4ms/step - loss: 0.1643 - accuracy: 0.9412 - val_loss: 0.2067 - val_accuracy: 0.9302\n",
            "Epoch 17/200\n",
            "17/17 [==============================] - 0s 4ms/step - loss: 0.1782 - accuracy: 0.9353 - val_loss: 0.1922 - val_accuracy: 0.9070\n",
            "Epoch 18/200\n",
            "17/17 [==============================] - 0s 4ms/step - loss: 0.1872 - accuracy: 0.9294 - val_loss: 0.2057 - val_accuracy: 0.9070\n",
            "Epoch 19/200\n",
            "17/17 [==============================] - 0s 4ms/step - loss: 0.1944 - accuracy: 0.9265 - val_loss: 0.1932 - val_accuracy: 0.9302\n",
            "Epoch 20/200\n",
            "17/17 [==============================] - 0s 4ms/step - loss: 0.1755 - accuracy: 0.9294 - val_loss: 0.1897 - val_accuracy: 0.9070\n",
            "Epoch 21/200\n",
            "17/17 [==============================] - 0s 5ms/step - loss: 0.1689 - accuracy: 0.9441 - val_loss: 0.2217 - val_accuracy: 0.9419\n",
            "Epoch 22/200\n",
            "17/17 [==============================] - 0s 5ms/step - loss: 0.1833 - accuracy: 0.9206 - val_loss: 0.1871 - val_accuracy: 0.9070\n",
            "Epoch 23/200\n",
            "17/17 [==============================] - 0s 5ms/step - loss: 0.1869 - accuracy: 0.9324 - val_loss: 0.1863 - val_accuracy: 0.9070\n",
            "Epoch 24/200\n",
            "17/17 [==============================] - 0s 5ms/step - loss: 0.1899 - accuracy: 0.9294 - val_loss: 0.1925 - val_accuracy: 0.9186\n",
            "Epoch 25/200\n",
            "17/17 [==============================] - 0s 4ms/step - loss: 0.1720 - accuracy: 0.9294 - val_loss: 0.1907 - val_accuracy: 0.9302\n",
            "Epoch 26/200\n",
            "17/17 [==============================] - 0s 4ms/step - loss: 0.1855 - accuracy: 0.9294 - val_loss: 0.1819 - val_accuracy: 0.9070\n",
            "Epoch 27/200\n",
            "17/17 [==============================] - 0s 4ms/step - loss: 0.1525 - accuracy: 0.9559 - val_loss: 0.1822 - val_accuracy: 0.9302\n",
            "Epoch 28/200\n",
            "17/17 [==============================] - 0s 4ms/step - loss: 0.1801 - accuracy: 0.9324 - val_loss: 0.1825 - val_accuracy: 0.9302\n",
            "Epoch 29/200\n",
            "17/17 [==============================] - 0s 4ms/step - loss: 0.1813 - accuracy: 0.9382 - val_loss: 0.1890 - val_accuracy: 0.9186\n",
            "Epoch 30/200\n",
            "17/17 [==============================] - 0s 4ms/step - loss: 0.1673 - accuracy: 0.9294 - val_loss: 0.2077 - val_accuracy: 0.9419\n",
            "Epoch 31/200\n",
            "17/17 [==============================] - 0s 5ms/step - loss: 0.1807 - accuracy: 0.9294 - val_loss: 0.1980 - val_accuracy: 0.9070\n",
            "Epoch 32/200\n",
            "17/17 [==============================] - 0s 4ms/step - loss: 0.1559 - accuracy: 0.9353 - val_loss: 0.2059 - val_accuracy: 0.9302\n",
            "Epoch 33/200\n",
            "17/17 [==============================] - 0s 4ms/step - loss: 0.1816 - accuracy: 0.9235 - val_loss: 0.1945 - val_accuracy: 0.9070\n",
            "Epoch 34/200\n",
            "17/17 [==============================] - 0s 5ms/step - loss: 0.1766 - accuracy: 0.9176 - val_loss: 0.1914 - val_accuracy: 0.9070\n",
            "Epoch 35/200\n",
            "17/17 [==============================] - 0s 4ms/step - loss: 0.1725 - accuracy: 0.9353 - val_loss: 0.1961 - val_accuracy: 0.9302\n",
            "Epoch 36/200\n",
            "17/17 [==============================] - 0s 4ms/step - loss: 0.1936 - accuracy: 0.9324 - val_loss: 0.1995 - val_accuracy: 0.9070\n",
            "Epoch 37/200\n",
            "17/17 [==============================] - 0s 4ms/step - loss: 0.2030 - accuracy: 0.9235 - val_loss: 0.1916 - val_accuracy: 0.9302\n",
            "Epoch 38/200\n",
            "17/17 [==============================] - 0s 4ms/step - loss: 0.1934 - accuracy: 0.9235 - val_loss: 0.1851 - val_accuracy: 0.9302\n",
            "Epoch 39/200\n",
            "17/17 [==============================] - 0s 4ms/step - loss: 0.1580 - accuracy: 0.9412 - val_loss: 0.1747 - val_accuracy: 0.9186\n",
            "Epoch 40/200\n",
            "17/17 [==============================] - 0s 4ms/step - loss: 0.1922 - accuracy: 0.9265 - val_loss: 0.2263 - val_accuracy: 0.9419\n",
            "Epoch 41/200\n",
            "17/17 [==============================] - 0s 5ms/step - loss: 0.1658 - accuracy: 0.9412 - val_loss: 0.1830 - val_accuracy: 0.9070\n",
            "Epoch 42/200\n",
            "17/17 [==============================] - 0s 4ms/step - loss: 0.1694 - accuracy: 0.9324 - val_loss: 0.1834 - val_accuracy: 0.9186\n",
            "Epoch 43/200\n",
            "17/17 [==============================] - 0s 5ms/step - loss: 0.1775 - accuracy: 0.9412 - val_loss: 0.2036 - val_accuracy: 0.9302\n",
            "Epoch 44/200\n",
            "17/17 [==============================] - 0s 4ms/step - loss: 0.1754 - accuracy: 0.9324 - val_loss: 0.1805 - val_accuracy: 0.9186\n",
            "Epoch 45/200\n",
            "17/17 [==============================] - 0s 4ms/step - loss: 0.1966 - accuracy: 0.9324 - val_loss: 0.2334 - val_accuracy: 0.9419\n",
            "Epoch 46/200\n",
            "17/17 [==============================] - 0s 4ms/step - loss: 0.1947 - accuracy: 0.9265 - val_loss: 0.1914 - val_accuracy: 0.9186\n",
            "Epoch 47/200\n",
            "17/17 [==============================] - 0s 4ms/step - loss: 0.1516 - accuracy: 0.9294 - val_loss: 0.1880 - val_accuracy: 0.9302\n",
            "Epoch 48/200\n",
            "17/17 [==============================] - 0s 4ms/step - loss: 0.1563 - accuracy: 0.9412 - val_loss: 0.1865 - val_accuracy: 0.9302\n",
            "Epoch 49/200\n",
            "17/17 [==============================] - 0s 4ms/step - loss: 0.1690 - accuracy: 0.9353 - val_loss: 0.1823 - val_accuracy: 0.9302\n",
            "Epoch 50/200\n",
            "17/17 [==============================] - 0s 4ms/step - loss: 0.1766 - accuracy: 0.9265 - val_loss: 0.1791 - val_accuracy: 0.9186\n",
            "Epoch 51/200\n",
            "17/17 [==============================] - 0s 4ms/step - loss: 0.1748 - accuracy: 0.9235 - val_loss: 0.1970 - val_accuracy: 0.9302\n",
            "Epoch 52/200\n",
            "17/17 [==============================] - 0s 4ms/step - loss: 0.1507 - accuracy: 0.9294 - val_loss: 0.1811 - val_accuracy: 0.9186\n",
            "Epoch 53/200\n",
            "17/17 [==============================] - 0s 4ms/step - loss: 0.1764 - accuracy: 0.9353 - val_loss: 0.1849 - val_accuracy: 0.9302\n",
            "Epoch 54/200\n",
            "17/17 [==============================] - 0s 4ms/step - loss: 0.1688 - accuracy: 0.9206 - val_loss: 0.1816 - val_accuracy: 0.9302\n",
            "Epoch 55/200\n",
            "17/17 [==============================] - 0s 4ms/step - loss: 0.1707 - accuracy: 0.9176 - val_loss: 0.1759 - val_accuracy: 0.9186\n",
            "Epoch 56/200\n",
            "17/17 [==============================] - 0s 4ms/step - loss: 0.1790 - accuracy: 0.9147 - val_loss: 0.2221 - val_accuracy: 0.9302\n",
            "Epoch 57/200\n",
            "17/17 [==============================] - 0s 4ms/step - loss: 0.1612 - accuracy: 0.9324 - val_loss: 0.1857 - val_accuracy: 0.9186\n",
            "Epoch 58/200\n",
            "17/17 [==============================] - 0s 5ms/step - loss: 0.1840 - accuracy: 0.9412 - val_loss: 0.1873 - val_accuracy: 0.9302\n",
            "Epoch 59/200\n",
            "17/17 [==============================] - 0s 4ms/step - loss: 0.1809 - accuracy: 0.9206 - val_loss: 0.1722 - val_accuracy: 0.9419\n",
            "Epoch 60/200\n",
            "17/17 [==============================] - 0s 4ms/step - loss: 0.1507 - accuracy: 0.9441 - val_loss: 0.1788 - val_accuracy: 0.9302\n",
            "Epoch 61/200\n",
            "17/17 [==============================] - 0s 4ms/step - loss: 0.1525 - accuracy: 0.9265 - val_loss: 0.2079 - val_accuracy: 0.9302\n",
            "Epoch 62/200\n",
            "17/17 [==============================] - 0s 5ms/step - loss: 0.1787 - accuracy: 0.9147 - val_loss: 0.1894 - val_accuracy: 0.9070\n",
            "Epoch 63/200\n",
            "17/17 [==============================] - 0s 5ms/step - loss: 0.1790 - accuracy: 0.9294 - val_loss: 0.1842 - val_accuracy: 0.9070\n",
            "Epoch 64/200\n",
            "17/17 [==============================] - 0s 4ms/step - loss: 0.1715 - accuracy: 0.9353 - val_loss: 0.1909 - val_accuracy: 0.9302\n",
            "Epoch 65/200\n",
            "17/17 [==============================] - 0s 5ms/step - loss: 0.1648 - accuracy: 0.9353 - val_loss: 0.1899 - val_accuracy: 0.9302\n",
            "Epoch 66/200\n",
            "17/17 [==============================] - 0s 5ms/step - loss: 0.1487 - accuracy: 0.9353 - val_loss: 0.1824 - val_accuracy: 0.9070\n",
            "Epoch 67/200\n",
            "17/17 [==============================] - 0s 5ms/step - loss: 0.1961 - accuracy: 0.9147 - val_loss: 0.2044 - val_accuracy: 0.9419\n",
            "Epoch 68/200\n",
            "17/17 [==============================] - 0s 4ms/step - loss: 0.1680 - accuracy: 0.9265 - val_loss: 0.1910 - val_accuracy: 0.9302\n",
            "Epoch 69/200\n",
            "17/17 [==============================] - 0s 4ms/step - loss: 0.1712 - accuracy: 0.9412 - val_loss: 0.1940 - val_accuracy: 0.9419\n",
            "Epoch 70/200\n",
            "17/17 [==============================] - 0s 4ms/step - loss: 0.1761 - accuracy: 0.9235 - val_loss: 0.1838 - val_accuracy: 0.9419\n",
            "Epoch 71/200\n",
            "17/17 [==============================] - 0s 4ms/step - loss: 0.1660 - accuracy: 0.9324 - val_loss: 0.1845 - val_accuracy: 0.9302\n",
            "Epoch 72/200\n",
            "17/17 [==============================] - 0s 4ms/step - loss: 0.1586 - accuracy: 0.9235 - val_loss: 0.1793 - val_accuracy: 0.9302\n",
            "Epoch 73/200\n",
            "17/17 [==============================] - 0s 5ms/step - loss: 0.1556 - accuracy: 0.9353 - val_loss: 0.1772 - val_accuracy: 0.9419\n",
            "Epoch 74/200\n",
            "17/17 [==============================] - 0s 5ms/step - loss: 0.1472 - accuracy: 0.9441 - val_loss: 0.1941 - val_accuracy: 0.9302\n",
            "Epoch 75/200\n",
            "17/17 [==============================] - 0s 5ms/step - loss: 0.1583 - accuracy: 0.9353 - val_loss: 0.1776 - val_accuracy: 0.9302\n",
            "Epoch 76/200\n",
            "17/17 [==============================] - 0s 4ms/step - loss: 0.1708 - accuracy: 0.9265 - val_loss: 0.1781 - val_accuracy: 0.9186\n",
            "Epoch 77/200\n",
            "17/17 [==============================] - 0s 4ms/step - loss: 0.1705 - accuracy: 0.9294 - val_loss: 0.1827 - val_accuracy: 0.9186\n",
            "Epoch 78/200\n",
            "17/17 [==============================] - 0s 4ms/step - loss: 0.1738 - accuracy: 0.9206 - val_loss: 0.1885 - val_accuracy: 0.9419\n",
            "Epoch 79/200\n",
            "17/17 [==============================] - 0s 4ms/step - loss: 0.1587 - accuracy: 0.9500 - val_loss: 0.1791 - val_accuracy: 0.9302\n"
          ]
        }
      ]
    },
    {
      "cell_type": "code",
      "source": [
        "test_loss, test_acc = model.evaluate(X_test, y_test, verbose=0)"
      ],
      "metadata": {
        "id": "Q2ejcEDSfp5H"
      },
      "execution_count": null,
      "outputs": []
    },
    {
      "cell_type": "code",
      "source": [
        "print('Test accuracy:', test_acc)"
      ],
      "metadata": {
        "colab": {
          "base_uri": "https://localhost:8080/"
        },
        "id": "rDG2PIh5ggn5",
        "outputId": "4b1f9b90-6da4-4dc9-f09f-9d9f16b4758b"
      },
      "execution_count": null,
      "outputs": [
        {
          "output_type": "stream",
          "name": "stdout",
          "text": [
            "Test accuracy: 0.9370629191398621\n"
          ]
        }
      ]
    },
    {
      "cell_type": "code",
      "source": [
        "predictions = model.predict(X_test)\n",
        "print(predictions)"
      ],
      "metadata": {
        "colab": {
          "base_uri": "https://localhost:8080/"
        },
        "id": "rldyJCxAgiYC",
        "outputId": "1d0f588a-971e-4d44-ab10-f39fae2f976f"
      },
      "execution_count": null,
      "outputs": [
        {
          "output_type": "stream",
          "name": "stdout",
          "text": [
            "[[9.6078682e-01]\n",
            " [5.0077736e-03]\n",
            " [2.0788050e-06]\n",
            " [6.3629788e-01]\n",
            " [9.6032226e-01]\n",
            " [9.9559158e-01]\n",
            " [6.1492282e-01]\n",
            " [9.9993885e-01]\n",
            " [9.9542665e-01]\n",
            " [7.3741376e-02]\n",
            " [9.8999473e-05]\n",
            " [6.6886157e-01]\n",
            " [9.8395264e-01]\n",
            " [9.8615122e-01]\n",
            " [7.1161532e-01]\n",
            " [3.9427429e-02]\n",
            " [5.7972121e-01]\n",
            " [2.3681025e-06]\n",
            " [9.6037143e-01]\n",
            " [9.8935878e-01]\n",
            " [6.2738293e-24]\n",
            " [2.2634864e-03]\n",
            " [9.3921408e-20]\n",
            " [9.4616222e-01]\n",
            " [9.9441475e-01]\n",
            " [9.7713828e-01]\n",
            " [8.5776210e-01]\n",
            " [1.7993138e-24]\n",
            " [9.1928190e-01]\n",
            " [9.9828768e-01]\n",
            " [5.0956947e-01]\n",
            " [6.6954809e-01]\n",
            " [3.6471233e-01]\n",
            " [9.2942536e-01]\n",
            " [6.9727639e-06]\n",
            " [9.9979675e-01]\n",
            " [9.9051226e-07]\n",
            " [9.7176391e-01]\n",
            " [9.9500203e-01]\n",
            " [8.1096798e-01]\n",
            " [9.7783101e-01]\n",
            " [8.8930827e-01]\n",
            " [9.8401713e-01]\n",
            " [9.9570334e-01]\n",
            " [9.3624425e-01]\n",
            " [7.9471707e-01]\n",
            " [6.3108754e-01]\n",
            " [9.7104681e-01]\n",
            " [2.6106536e-02]\n",
            " [6.4031118e-01]\n",
            " [9.3630171e-01]\n",
            " [6.1382222e-01]\n",
            " [9.4726264e-01]\n",
            " [9.8028171e-01]\n",
            " [4.1881442e-01]\n",
            " [3.9869544e-12]\n",
            " [9.9973369e-01]\n",
            " [7.8399146e-01]\n",
            " [9.9319279e-01]\n",
            " [9.9875093e-01]\n",
            " [3.4306715e-05]\n",
            " [9.9000454e-01]\n",
            " [9.9929452e-01]\n",
            " [8.7645340e-01]\n",
            " [6.7214074e-05]\n",
            " [2.7432889e-02]\n",
            " [9.9988985e-01]\n",
            " [9.5849180e-01]\n",
            " [9.1505337e-01]\n",
            " [5.7388037e-02]\n",
            " [9.7895503e-01]\n",
            " [5.2911043e-04]\n",
            " [9.9967033e-01]\n",
            " [7.8736907e-01]\n",
            " [2.1359324e-04]\n",
            " [6.8463729e-12]\n",
            " [9.9547362e-01]\n",
            " [9.0247482e-02]\n",
            " [9.9195732e-15]\n",
            " [5.7559520e-01]\n",
            " [9.9732274e-01]\n",
            " [7.2617465e-01]\n",
            " [3.5536966e-01]\n",
            " [9.9816108e-01]\n",
            " [9.8261482e-01]\n",
            " [9.7447264e-01]\n",
            " [9.8730808e-01]\n",
            " [2.3089540e-01]\n",
            " [8.1172061e-01]\n",
            " [2.1761656e-04]\n",
            " [9.9939585e-01]\n",
            " [7.9739749e-08]\n",
            " [6.0136699e-07]\n",
            " [9.7415221e-01]\n",
            " [7.9787970e-01]\n",
            " [2.3788529e-09]\n",
            " [9.7473049e-01]\n",
            " [2.6828051e-04]\n",
            " [8.2339561e-01]\n",
            " [9.5514971e-01]\n",
            " [6.6237712e-01]\n",
            " [9.9634612e-01]\n",
            " [9.9866831e-01]\n",
            " [8.5488081e-01]\n",
            " [9.7492844e-01]\n",
            " [7.2291911e-01]\n",
            " [5.0865412e-03]\n",
            " [3.7330252e-01]\n",
            " [2.7567130e-13]\n",
            " [9.9941707e-01]\n",
            " [8.8455629e-01]\n",
            " [7.9070741e-09]\n",
            " [8.9576650e-01]\n",
            " [9.1774720e-01]\n",
            " [9.9965417e-01]\n",
            " [7.9921131e-07]\n",
            " [9.9262714e-01]\n",
            " [9.9986190e-01]\n",
            " [9.6581918e-01]\n",
            " [2.2440881e-02]\n",
            " [6.1129700e-05]\n",
            " [9.9953628e-01]\n",
            " [9.8401803e-01]\n",
            " [2.4124503e-02]\n",
            " [9.9941707e-01]\n",
            " [6.3332856e-02]\n",
            " [9.9683923e-01]\n",
            " [9.4305158e-01]\n",
            " [5.0555444e-01]\n",
            " [2.1081358e-02]\n",
            " [7.6446319e-01]\n",
            " [5.4792650e-05]\n",
            " [9.8084885e-01]\n",
            " [2.8965069e-05]\n",
            " [8.8924909e-01]\n",
            " [8.6872000e-01]\n",
            " [9.9838519e-01]\n",
            " [1.4234096e-02]\n",
            " [9.7861814e-01]\n",
            " [4.4887111e-12]\n",
            " [9.9953693e-01]\n",
            " [1.0653041e-09]\n",
            " [1.9665230e-20]]\n"
          ]
        }
      ]
    },
    {
      "cell_type": "code",
      "source": [
        "# 시각화를 통하여 학습이 잘 이루어지고 있는지 확인\n",
        "\n",
        "import matplotlib.pyplot as plt\n",
        "\n",
        "def show_history_acc(history):\n",
        "    plt.plot(history.history['accuracy'], label='train')\n",
        "    plt.plot(history.history['val_accuracy'], label='valid')\n",
        "    plt.legend()\n",
        "    \n",
        "show_history(history)"
      ],
      "metadata": {
        "colab": {
          "base_uri": "https://localhost:8080/",
          "height": 265
        },
        "id": "9vgZsxL3gr5L",
        "outputId": "a924e360-31ad-4118-98ce-20fcd2b0f1a4"
      },
      "execution_count": null,
      "outputs": [
        {
          "output_type": "display_data",
          "data": {
            "text/plain": [
              "<Figure size 432x288 with 1 Axes>"
            ],
            "image/png": "[encoded data removed]"
          },
          "metadata": {
            "needs_background": "light"
          }
        }
      ]
    },
    {
      "cell_type": "code",
      "source": [
        "# 시각화를 통하여 학습이 잘 이루어지고 있는지 확인\n",
        "\n",
        "def show_history_loss(history):\n",
        "    plt.plot(history.history['loss'], label='train')\n",
        "    plt.plot(history.history['val_loss'], label='valid')\n",
        "    plt.legend()\n",
        "    \n",
        "show_history_loss(history)"
      ],
      "metadata": {
        "colab": {
          "base_uri": "https://localhost:8080/",
          "height": 265
        },
        "id": "tmiqNHdzgx4J",
        "outputId": "b6d2e77a-48ea-4662-8d0a-cf111c506f44"
      },
      "execution_count": null,
      "outputs": [
        {
          "output_type": "display_data",
          "data": {
            "text/plain": [
              "<Figure size 432x288 with 1 Axes>"
            ],
            "image/png": "[encoded data removed]"
          },
          "metadata": {
            "needs_background": "light"
          }
        }
      ]
    },
    {
      "cell_type": "code",
      "source": [
        "file_path = \"my_model_weights\"\n",
        "model.save_weights(file_path)"
      ],
      "metadata": {
        "id": "8uqRGtxfg7dE"
      },
      "execution_count": null,
      "outputs": []
    },
    {
      "cell_type": "code",
      "source": [
        "model.save(\"my_model.h5\")\n",
        "model = tf.keras.models.load_model(\"my_model.h5\")"
      ],
      "metadata": {
        "id": "hg9l3Dz0hIko"
      },
      "execution_count": null,
      "outputs": []
    },
    {
      "cell_type": "code",
      "source": [
        "test_loss, test_acc = model.evaluate(X_test, y_test, verbose=0)\n",
        "print(test_acc)"
      ],
      "metadata": {
        "colab": {
          "base_uri": "https://localhost:8080/"
        },
        "id": "vLVUJOIHhL_9",
        "outputId": "dfe6033f-25e6-4cb1-de32-e3885a9483ea"
      },
      "execution_count": null,
      "outputs": [
        {
          "output_type": "stream",
          "name": "stdout",
          "text": [
            "0.9370629191398621\n"
          ]
        }
      ]
    }
  ]
}
