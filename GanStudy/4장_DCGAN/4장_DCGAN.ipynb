{
  "nbformat": 4,
  "nbformat_minor": 0,
  "metadata": {
    "colab": {
      "provenance": [],
      "collapsed_sections": [],
      "authorship_tag": "ABX9TyPOUDzjUKSNjKJj1Z515dUB",
      "include_colab_link": true
    },
    "kernelspec": {
      "name": "python3",
      "display_name": "Python 3"
    },
    "language_info": {
      "name": "python"
    }
  },
  "cells": [
    {
      "cell_type": "markdown",
      "metadata": {
        "id": "view-in-github",
        "colab_type": "text"
      },
      "source": [
        "<a href=\"https://colab.research.google.com/github/SangBeom-Hahn/BOAZ/blob/main/4%EC%9E%A5_DCGAN.ipynb\" target=\"_parent\"><img src=\"https://colab.research.google.com/assets/colab-badge.svg\" alt=\"Open In Colab\"/></a>"
      ]
    },
    {
      "cell_type": "code",
      "execution_count": null,
      "metadata": {
        "id": "aCX6aKAt5smz"
      },
      "outputs": [],
      "source": [
        "def build_generator(z_dim):\n",
        "\n",
        "    model = Sequential()\n",
        "\n",
        "    # 완전 연결층을 통해 입력을 7x7x256 크기 텐서로 변환\n",
        "    model.add(Dense(256 * 7 * 7, input_dim=z_dim))\n",
        "    model.add(Reshape((7, 7, 256))) # 너비 * 높이 * 깊이가 국룰이다 ↑가 안쓰임/\n",
        "\n",
        "    # 7x7x256에서 14x14x128 텐서로 바꾸는 전치 합성곱 층\n",
        "    model.add(Conv2DTranspose(128, kernel_size=3, strides=2, padding='same'))\n",
        "\n",
        "    # 배치 정규화\n",
        "    model.add(BatchNormalization())\n",
        "\n",
        "    # LeakyReLU 활성화 함수\n",
        "    model.add(LeakyReLU(alpha=0.01))\n",
        "\n",
        "    # 14x14x128에서 14x14x64 텐서로 바꾸는 전치 합성곱 층\n",
        "    model.add(Conv2DTranspose(64, kernel_size=3, strides=1, padding='same'))\n",
        "\n",
        "    # 배치 정규화\n",
        "    model.add(BatchNormalization())\n",
        "\n",
        "    # LeakyReLU 활성화 함수\n",
        "    model.add(LeakyReLU(alpha=0.01))\n",
        "\n",
        "    # 14x14x64에서 28x28x1 텐서로 바꾸는 전치 합성곱 층\n",
        "    model.add(Conv2DTranspose(1, kernel_size=3, strides=2, padding='same'))\n",
        "\n",
        "    # tanh 활성화 함수를 사용한 출력층\n",
        "    model.add(Activation('tanh'))\n",
        "\n",
        "    return model"
      ]
    }
  ]
}
